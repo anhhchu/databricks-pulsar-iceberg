{
 "cells": [
  {
   "cell_type": "markdown",
   "metadata": {
    "application/vnd.databricks.v1+cell": {
     "cellMetadata": {},
     "inputWidgets": {},
     "nuid": "795f5fc5-8723-4aed-9376-bb6e5cc8c05d",
     "showTitle": false,
     "tableResultSettingsMap": {},
     "title": ""
    }
   },
   "source": [
    "# Spark Structured Streaming with Iceberg: foreachBatch to multiple sinks"
   ]
  },
  {
   "cell_type": "markdown",
   "metadata": {
    "application/vnd.databricks.v1+cell": {
     "cellMetadata": {},
     "inputWidgets": {},
     "nuid": "8665d1c6-2302-4d9b-85e4-fef618a7f530",
     "showTitle": false,
     "tableResultSettingsMap": {},
     "title": ""
    }
   },
   "source": [
    "- foreachBatch allow caching of the procesing dataframe, to write to multiple sinks without reprocessing\n",
    "- However, writes to multiple tables are serialized when using 'foreachBatch`, which reduces parallelization and increases overall latency.\n",
    "- Idempotent table write is recommended\n",
    " https://docs.databricks.com/aws/en/structured-streaming/delta-lake#idempotent-table-writes-in-foreachbatch"
   ]
  },
  {
   "cell_type": "code",
   "execution_count": 0,
   "metadata": {
    "application/vnd.databricks.v1+cell": {
     "cellMetadata": {
      "byteLimit": 2048000,
      "rowLimit": 10000
     },
     "inputWidgets": {},
     "nuid": "e032b6a6-248a-4090-b9e2-9d7332f72f20",
     "showTitle": true,
     "tableResultSettingsMap": {},
     "title": "Import Schema"
    }
   },
   "outputs": [],
   "source": [
    "from schemas import schema, instrument_ref_schema, instrument_error_schema, instrument_risk_schema \n",
    "from pyspark.sql.functions import explode, col, from_json, schema_of_json"
   ]
  },
  {
   "cell_type": "code",
   "execution_count": 0,
   "metadata": {
    "application/vnd.databricks.v1+cell": {
     "cellMetadata": {
      "byteLimit": 2048000,
      "rowLimit": 10000
     },
     "inputWidgets": {},
     "nuid": "da86a759-a7a2-41af-aca7-687c5bca65f5",
     "showTitle": true,
     "tableResultSettingsMap": {},
     "title": "Read from Pulsar"
    }
   },
   "outputs": [],
   "source": [
    "\n",
    "fin_df = (\n",
    "    spark.readStream\n",
    "    .format(\"pulsar\")\n",
    "    .option(\"service.url\", \"pulsar://6.tcp.us-cal-1.ngrok.io:13185\")\n",
    "    .option(\"topics\", \"financial-messages\")\n",
    "    .option(\"startingOffsets\", \"latest\")\n",
    "    .load()\n",
    "    .select(from_json(col(\"value\").cast(\"string\"), schema).alias(\"value\"))\n",
    "    .select(\"value.*\")\n",
    ")\n",
    "\n"
   ]
  },
  {
   "cell_type": "code",
   "execution_count": 0,
   "metadata": {
    "application/vnd.databricks.v1+cell": {
     "cellMetadata": {
      "byteLimit": 2048000,
      "rowLimit": 10000
     },
     "inputWidgets": {},
     "nuid": "bf5dab6f-1e6e-4642-9f45-100d77458bc8",
     "showTitle": false,
     "tableResultSettingsMap": {},
     "title": ""
    }
   },
   "outputs": [
    {
     "output_type": "execute_result",
     "data": {
      "text/plain": [
       "<pyspark.sql.streaming.query.StreamingQuery at 0x7fecabaf5400>"
      ]
     },
     "execution_count": 18,
     "metadata": {},
     "output_type": "execute_result"
    }
   ],
   "source": [
    "def write_to_iceberg(batch_df, batch_id):\n",
    "    print(f\"Processing batch_id: {batch_id}\")\n",
    "    \n",
    "    # Unique application ID for idempotent writes\n",
    "    app_id = \"pulsar-iceberg-streaming-app\"\n",
    "    \n",
    "    exploded_df = (\n",
    "        batch_df\n",
    "            .select(\n",
    "                col(\"jobidentifier\"),\n",
    "                col(\"analysisidentifier\"),\n",
    "                explode(col(\"data\")).alias(\"data_item\")\n",
    "            )\n",
    "            .filter(col(\"data_item.type\") == \"instrument\")\n",
    "    )\n",
    "\n",
    "    exploded_df.persist()\n",
    "\n",
    "    ### Reference table\n",
    "    spark.sql(f\"\"\"\n",
    "        CREATE TABLE IF NOT EXISTS users.anhhoang_chu.pulsar_instrument_reference ({instrument_ref_schema})\n",
    "        USING ICEBERG\n",
    "        \"\"\")\n",
    "    \n",
    "    ref_df = (\n",
    "        exploded_df.select(\n",
    "            col(\"data_item.instrumentreference.*\")\n",
    "        )\n",
    "    )\n",
    "\n",
    "    (\n",
    "        ref_df.write\n",
    "            .format(\"iceberg\")\n",
    "            .mode(\"append\")\n",
    "            .option(\"txnVersion\", batch_id)\n",
    "            .option(\"txnAppId\", app_id)\n",
    "            .option(\"schemaLocation\", \"/Volumes/users/anhhoang_chu/iceberg/pulsar/ref_schema\")\n",
    "            .saveAsTable(\"users.anhhoang_chu.pulsar_instrument_reference\")\n",
    "    )\n",
    "    print(f\"Written reference data for batch_id: {batch_id}\")\n",
    "\n",
    "    ### Error table\n",
    "    spark.sql(f\"\"\"\n",
    "        CREATE TABLE IF NOT EXISTS users.anhhoang_chu.pulsar_instrument_error ({instrument_error_schema})\n",
    "        USING ICEBERG\"\"\")\n",
    "    \n",
    "    error_df = (\n",
    "        exploded_df.withColumn(\"errors\", explode(col(\"data_item.instrumenterror\")))\n",
    "        .select(\"errors.*\")\n",
    "    )\n",
    "\n",
    "    (\n",
    "        error_df.write\n",
    "            .format(\"iceberg\")\n",
    "            .mode(\"append\")\n",
    "            .option(\"txnVersion\", batch_id)\n",
    "            .option(\"txnAppId\", app_id)\n",
    "            .option(\"schemaLocation\", \"/Volumes/users/anhhoang_chu/iceberg/pulsar/error_schema\")\n",
    "            .saveAsTable(\"users.anhhoang_chu.pulsar_instrument_error\")\n",
    "    )\n",
    "    print(f\"Written error data for batch_id: {batch_id}\")\n",
    "\n",
    "    ### Risk metric table\n",
    "    spark.sql(f\"\"\"\n",
    "        CREATE TABLE IF NOT EXISTS users.anhhoang_chu.pulsar_instrument_risk_metric({instrument_risk_schema})\n",
    "        USING ICEBERG\n",
    "        \"\"\")\n",
    "\n",
    "    risk_df = (\n",
    "        exploded_df.withColumn(\"riskmetric\", explode(col(\"data_item.instrumentriskmetric\")))\n",
    "        .select(\"riskmetric.*\")\n",
    "    )\n",
    "\n",
    "    (\n",
    "        risk_df.write\n",
    "            .format(\"iceberg\")\n",
    "            .mode(\"append\")\n",
    "            .option(\"txnVersion\", batch_id)\n",
    "            .option(\"txnAppId\", app_id)\n",
    "            .option(\"schemaLocation\", \"/Volumes/users/anhhoang_chu/iceberg/pulsar/risk_schema\")\n",
    "            .saveAsTable(\"users.anhhoang_chu.pulsar_instrument_risk_metric\")\n",
    "    )\n",
    "    print(f\"Written risk metric data for batch_id: {batch_id}\")\n",
    "\n",
    "    exploded_df.unpersist()\n",
    "\n",
    "\n",
    "(\n",
    "    fin_df.writeStream\n",
    "    .foreachBatch(write_to_iceberg)\n",
    "    .outputMode(\"append\")\n",
    "    .trigger(availableNow=True)\n",
    "    .option(\"checkpointLocation\", \"/Volumes/users/anhhoang_chu/iceberg/pulsar/_checkpoints\")\n",
    "    .start()\n",
    ")"
   ]
  },
  {
   "cell_type": "code",
   "execution_count": 0,
   "metadata": {
    "application/vnd.databricks.v1+cell": {
     "cellMetadata": {
      "byteLimit": 2048000,
      "implicitDf": true,
      "rowLimit": 10000
     },
     "inputWidgets": {},
     "nuid": "6e555977-db1f-464f-bb91-d1b62cfe0dd0",
     "showTitle": false,
     "tableResultSettingsMap": {},
     "title": ""
    }
   },
   "outputs": [
    {
     "output_type": "display_data",
     "data": {
      "text/html": [
       "<style scoped>\n",
       "  .table-result-container {\n",
       "    max-height: 300px;\n",
       "    overflow: auto;\n",
       "  }\n",
       "  table, th, td {\n",
       "    border: 1px solid black;\n",
       "    border-collapse: collapse;\n",
       "  }\n",
       "  th, td {\n",
       "    padding: 5px;\n",
       "  }\n",
       "  th {\n",
       "    text-align: left;\n",
       "  }\n",
       "</style><div class='table-result-container'><table class='table-result'><thead style='background-color: white'><tr><th>analysisidentifier</th><th>instrumentidentifier</th><th>asofdate</th><th>accountidentifier</th><th>accountname</th><th>instrumentname</th><th>description</th><th>instrumenttype</th><th>instrumentsubtype</th><th>consumerproductcategory</th><th>originationdate</th><th>maturitydate</th><th>amortizationtype</th><th>amortizationenddate</th><th>isinterestonly</th><th>cashflowtype</th><th>instrumentcurrency</th><th>notionalportion</th><th>unpaidprincipalbalance</th><th>currentcommitmentamount</th><th>marketpriceoverride</th><th>fixedpaymentamount</th><th>currentbookpriceoverride</th><th>interestratetype</th><th>interestpaymentfrequency</th><th>curerate</th><th>fixedrate</th><th>currentrate</th><th>portfolioidentifier</th><th>interestratespread</th><th>interestrateindexmultiplier</th><th>interestrateindex</th><th>lifetimeinterestratecap</th><th>lifetimeinterestratefloor</th><th>periodicinterestratecap</th><th>periodicratefloor</th><th>interestrateresetfirstdate</th><th>interestrateresetfrequency</th><th>daycount</th><th>optionadjustedspreadoverride</th><th>modified</th><th>parmarketprice</th><th>servicingspread</th><th>company</th><th>discountcurve</th><th>accountside</th><th>jobidentifier</th><th>cashfloworder</th><th>cashflowsource</th><th>cashflowmodelname</th><th>prepaymentorder</th><th>prepaymentsource</th><th>prepaymentmodelname</th><th>prepaymentshift</th><th>prepaymentscalingfactor</th></tr></thead><tbody><tr><td>9b676327-34e3-4b26-9cce-c04e5b4c313c</td><td>Bond_78bdcefc</td><td>2025-07-22</td><td>TPS/CD/CP_AFS</td><td>null</td><td>null</td><td>Corporate Bond Investment</td><td>Bond</td><td>null</td><td>null</td><td>2025-06-22</td><td>2030-07-21</td><td>Constant installment</td><td>2030-07-21</td><td>null</td><td>null</td><td>USD</td><td>null</td><td>1000000</td><td>null</td><td>102.5</td><td>null</td><td>100</td><td>Fixed</td><td>Semi-Annual</td><td>null</td><td>null</td><td>0.0325</td><td>CORPORATE_BONDS_01</td><td>0.0</td><td>0.0</td><td>10YT</td><td>99.0</td><td>0.0</td><td>99.0</td><td>0.0</td><td>null</td><td>null</td><td>30/360</td><td>0.0</td><td>null</td><td>null</td><td>0.0</td><td>Financial Corp</td><td>TreasuryYield</td><td>Asset</td><td>cb6c6724-98d4-40b6-8fb2-ac35a55dc9d6</td><td>10000</td><td>API model</td><td>Standard Cash Flow Model</td><td>10000</td><td>Statistical model</td><td>Standard Prepayment Model</td><td>0.0</td><td>1.0</td></tr><tr><td>585a0335-b676-485b-9945-0144c9c9f5f2</td><td>Bond_3016acdb</td><td>2025-07-22</td><td>TPS/CD/CP_AFS</td><td>null</td><td>null</td><td>Corporate Bond Investment</td><td>Bond</td><td>null</td><td>null</td><td>2025-06-22</td><td>2030-07-21</td><td>Constant installment</td><td>2030-07-21</td><td>null</td><td>null</td><td>USD</td><td>null</td><td>1000000</td><td>null</td><td>102.5</td><td>null</td><td>100</td><td>Fixed</td><td>Semi-Annual</td><td>null</td><td>null</td><td>0.0325</td><td>CORPORATE_BONDS_01</td><td>0.0</td><td>0.0</td><td>10YT</td><td>99.0</td><td>0.0</td><td>99.0</td><td>0.0</td><td>null</td><td>null</td><td>30/360</td><td>0.0</td><td>null</td><td>null</td><td>0.0</td><td>Financial Corp</td><td>TreasuryYield</td><td>Asset</td><td>3f61ed8d-e34e-44fa-8dcd-3a333ee06d8a</td><td>10000</td><td>API model</td><td>Standard Cash Flow Model</td><td>10000</td><td>Statistical model</td><td>Standard Prepayment Model</td><td>0.0</td><td>1.0</td></tr><tr><td>ff05644d-3f68-428e-a7c2-f4423187aede</td><td>Bond_33442b00</td><td>2025-07-22</td><td>TPS/CD/CP_AFS</td><td>null</td><td>null</td><td>Corporate Bond Investment</td><td>Bond</td><td>null</td><td>null</td><td>2025-06-22</td><td>2030-07-21</td><td>Constant installment</td><td>2030-07-21</td><td>null</td><td>null</td><td>USD</td><td>null</td><td>1000000</td><td>null</td><td>102.5</td><td>null</td><td>100</td><td>Fixed</td><td>Semi-Annual</td><td>null</td><td>null</td><td>0.0325</td><td>CORPORATE_BONDS_01</td><td>0.0</td><td>0.0</td><td>10YT</td><td>99.0</td><td>0.0</td><td>99.0</td><td>0.0</td><td>null</td><td>null</td><td>30/360</td><td>0.0</td><td>null</td><td>null</td><td>0.0</td><td>Financial Corp</td><td>TreasuryYield</td><td>Asset</td><td>422189f4-3a7e-4bc0-b4af-39c7ef5e8206</td><td>10000</td><td>API model</td><td>Standard Cash Flow Model</td><td>10000</td><td>Statistical model</td><td>Standard Prepayment Model</td><td>0.0</td><td>1.0</td></tr><tr><td>a4b809e0-8948-4660-b258-bc77ff22c619</td><td>Bond_e0c25114</td><td>2025-07-22</td><td>TPS/CD/CP_AFS</td><td>null</td><td>null</td><td>Corporate Bond Investment</td><td>Bond</td><td>null</td><td>null</td><td>2025-06-22</td><td>2030-07-21</td><td>Constant installment</td><td>2030-07-21</td><td>null</td><td>null</td><td>USD</td><td>null</td><td>1000000</td><td>null</td><td>102.5</td><td>null</td><td>100</td><td>Fixed</td><td>Semi-Annual</td><td>null</td><td>null</td><td>0.0325</td><td>CORPORATE_BONDS_01</td><td>0.0</td><td>0.0</td><td>10YT</td><td>99.0</td><td>0.0</td><td>99.0</td><td>0.0</td><td>null</td><td>null</td><td>30/360</td><td>0.0</td><td>null</td><td>null</td><td>0.0</td><td>Financial Corp</td><td>TreasuryYield</td><td>Asset</td><td>23f52345-01e8-4443-a431-71b102f9d75d</td><td>10000</td><td>API model</td><td>Standard Cash Flow Model</td><td>10000</td><td>Statistical model</td><td>Standard Prepayment Model</td><td>0.0</td><td>1.0</td></tr><tr><td>d9f19bd9-8112-48be-baea-1701f3417599</td><td>Bond_34207534</td><td>2025-07-22</td><td>TPS/CD/CP_AFS</td><td>null</td><td>null</td><td>Corporate Bond Investment</td><td>Bond</td><td>null</td><td>null</td><td>2025-06-22</td><td>2030-07-21</td><td>Constant installment</td><td>2030-07-21</td><td>null</td><td>null</td><td>USD</td><td>null</td><td>1000000</td><td>null</td><td>102.5</td><td>null</td><td>100</td><td>Fixed</td><td>Semi-Annual</td><td>null</td><td>null</td><td>0.0325</td><td>CORPORATE_BONDS_01</td><td>0.0</td><td>0.0</td><td>10YT</td><td>99.0</td><td>0.0</td><td>99.0</td><td>0.0</td><td>null</td><td>null</td><td>30/360</td><td>0.0</td><td>null</td><td>null</td><td>0.0</td><td>Financial Corp</td><td>TreasuryYield</td><td>Asset</td><td>ebd51ad8-1606-44b0-914d-9603728047a6</td><td>10000</td><td>API model</td><td>Standard Cash Flow Model</td><td>10000</td><td>Statistical model</td><td>Standard Prepayment Model</td><td>0.0</td><td>1.0</td></tr><tr><td>d4f9be64-ce56-44d1-a43d-ae8644b18ff9</td><td>Bond_3d6e2d55</td><td>2025-07-22</td><td>TPS/CD/CP_AFS</td><td>null</td><td>null</td><td>Corporate Bond Investment</td><td>Bond</td><td>null</td><td>null</td><td>2025-06-22</td><td>2030-07-21</td><td>Constant installment</td><td>2030-07-21</td><td>null</td><td>null</td><td>USD</td><td>null</td><td>1000000</td><td>null</td><td>102.5</td><td>null</td><td>100</td><td>Fixed</td><td>Semi-Annual</td><td>null</td><td>null</td><td>0.0325</td><td>CORPORATE_BONDS_01</td><td>0.0</td><td>0.0</td><td>10YT</td><td>99.0</td><td>0.0</td><td>99.0</td><td>0.0</td><td>null</td><td>null</td><td>30/360</td><td>0.0</td><td>null</td><td>null</td><td>0.0</td><td>Financial Corp</td><td>TreasuryYield</td><td>Asset</td><td>63b532a1-038c-48eb-9136-4a373626f5d6</td><td>10000</td><td>API model</td><td>Standard Cash Flow Model</td><td>10000</td><td>Statistical model</td><td>Standard Prepayment Model</td><td>0.0</td><td>1.0</td></tr><tr><td>4f74f268-c8be-4542-a574-5da7c83a489a</td><td>Bond_c6b6367b</td><td>2025-07-22</td><td>TPS/CD/CP_AFS</td><td>null</td><td>null</td><td>Corporate Bond Investment</td><td>Bond</td><td>null</td><td>null</td><td>2025-06-22</td><td>2030-07-21</td><td>Constant installment</td><td>2030-07-21</td><td>null</td><td>null</td><td>USD</td><td>null</td><td>1000000</td><td>null</td><td>102.5</td><td>null</td><td>100</td><td>Fixed</td><td>Semi-Annual</td><td>null</td><td>null</td><td>0.0325</td><td>CORPORATE_BONDS_01</td><td>0.0</td><td>0.0</td><td>10YT</td><td>99.0</td><td>0.0</td><td>99.0</td><td>0.0</td><td>null</td><td>null</td><td>30/360</td><td>0.0</td><td>null</td><td>null</td><td>0.0</td><td>Financial Corp</td><td>TreasuryYield</td><td>Asset</td><td>cb91dd58-692a-49c5-a3fd-e654b52ca003</td><td>10000</td><td>API model</td><td>Standard Cash Flow Model</td><td>10000</td><td>Statistical model</td><td>Standard Prepayment Model</td><td>0.0</td><td>1.0</td></tr><tr><td>921f22ff-17c2-473c-a91b-f3f99952a84f</td><td>Bond_058c434c</td><td>2025-07-22</td><td>TPS/CD/CP_AFS</td><td>null</td><td>null</td><td>Corporate Bond Investment</td><td>Bond</td><td>null</td><td>null</td><td>2025-06-22</td><td>2030-07-21</td><td>Constant installment</td><td>2030-07-21</td><td>null</td><td>null</td><td>USD</td><td>null</td><td>1000000</td><td>null</td><td>102.5</td><td>null</td><td>100</td><td>Fixed</td><td>Semi-Annual</td><td>null</td><td>null</td><td>0.0325</td><td>CORPORATE_BONDS_01</td><td>0.0</td><td>0.0</td><td>10YT</td><td>99.0</td><td>0.0</td><td>99.0</td><td>0.0</td><td>null</td><td>null</td><td>30/360</td><td>0.0</td><td>null</td><td>null</td><td>0.0</td><td>Financial Corp</td><td>TreasuryYield</td><td>Asset</td><td>8e426581-bff8-4ba1-9504-690d8e93df24</td><td>10000</td><td>API model</td><td>Standard Cash Flow Model</td><td>10000</td><td>Statistical model</td><td>Standard Prepayment Model</td><td>0.0</td><td>1.0</td></tr><tr><td>7b371656-3277-4004-b2b2-a3f284ea9a9e</td><td>Bond_aa318ef2</td><td>2025-07-22</td><td>TPS/CD/CP_AFS</td><td>null</td><td>null</td><td>Corporate Bond Investment</td><td>Bond</td><td>null</td><td>null</td><td>2025-06-22</td><td>2030-07-21</td><td>Constant installment</td><td>2030-07-21</td><td>null</td><td>null</td><td>USD</td><td>null</td><td>1000000</td><td>null</td><td>102.5</td><td>null</td><td>100</td><td>Fixed</td><td>Semi-Annual</td><td>null</td><td>null</td><td>0.0325</td><td>CORPORATE_BONDS_01</td><td>0.0</td><td>0.0</td><td>10YT</td><td>99.0</td><td>0.0</td><td>99.0</td><td>0.0</td><td>null</td><td>null</td><td>30/360</td><td>0.0</td><td>null</td><td>null</td><td>0.0</td><td>Financial Corp</td><td>TreasuryYield</td><td>Asset</td><td>9f1c4bb7-80cb-4c81-b184-03235975fdf8</td><td>10000</td><td>API model</td><td>Standard Cash Flow Model</td><td>10000</td><td>Statistical model</td><td>Standard Prepayment Model</td><td>0.0</td><td>1.0</td></tr></tbody></table></div>"
      ]
     },
     "metadata": {
      "application/vnd.databricks.v1+output": {
       "addedWidgets": {},
       "aggData": [],
       "aggError": "",
       "aggOverflow": false,
       "aggSchema": [],
       "aggSeriesLimitReached": false,
       "aggType": "",
       "arguments": {},
       "columnCustomDisplayInfos": {},
       "data": [
        [
         "9b676327-34e3-4b26-9cce-c04e5b4c313c",
         "Bond_78bdcefc",
         "2025-07-22",
         "TPS/CD/CP_AFS",
         null,
         null,
         "Corporate Bond Investment",
         "Bond",
         null,
         null,
         "2025-06-22",
         "2030-07-21",
         "Constant installment",
         "2030-07-21",
         null,
         null,
         "USD",
         null,
         "1000000",
         null,
         "102.5",
         null,
         "100",
         "Fixed",
         "Semi-Annual",
         null,
         null,
         0.0325,
         "CORPORATE_BONDS_01",
         0.0,
         0.0,
         "10YT",
         99.0,
         0.0,
         99.0,
         0.0,
         null,
         null,
         "30/360",
         0.0,
         null,
         null,
         0.0,
         "Financial Corp",
         "TreasuryYield",
         "Asset",
         "cb6c6724-98d4-40b6-8fb2-ac35a55dc9d6",
         10000,
         "API model",
         "Standard Cash Flow Model",
         10000,
         "Statistical model",
         "Standard Prepayment Model",
         0.0,
         1.0
        ],
        [
         "585a0335-b676-485b-9945-0144c9c9f5f2",
         "Bond_3016acdb",
         "2025-07-22",
         "TPS/CD/CP_AFS",
         null,
         null,
         "Corporate Bond Investment",
         "Bond",
         null,
         null,
         "2025-06-22",
         "2030-07-21",
         "Constant installment",
         "2030-07-21",
         null,
         null,
         "USD",
         null,
         "1000000",
         null,
         "102.5",
         null,
         "100",
         "Fixed",
         "Semi-Annual",
         null,
         null,
         0.0325,
         "CORPORATE_BONDS_01",
         0.0,
         0.0,
         "10YT",
         99.0,
         0.0,
         99.0,
         0.0,
         null,
         null,
         "30/360",
         0.0,
         null,
         null,
         0.0,
         "Financial Corp",
         "TreasuryYield",
         "Asset",
         "3f61ed8d-e34e-44fa-8dcd-3a333ee06d8a",
         10000,
         "API model",
         "Standard Cash Flow Model",
         10000,
         "Statistical model",
         "Standard Prepayment Model",
         0.0,
         1.0
        ],
        [
         "ff05644d-3f68-428e-a7c2-f4423187aede",
         "Bond_33442b00",
         "2025-07-22",
         "TPS/CD/CP_AFS",
         null,
         null,
         "Corporate Bond Investment",
         "Bond",
         null,
         null,
         "2025-06-22",
         "2030-07-21",
         "Constant installment",
         "2030-07-21",
         null,
         null,
         "USD",
         null,
         "1000000",
         null,
         "102.5",
         null,
         "100",
         "Fixed",
         "Semi-Annual",
         null,
         null,
         0.0325,
         "CORPORATE_BONDS_01",
         0.0,
         0.0,
         "10YT",
         99.0,
         0.0,
         99.0,
         0.0,
         null,
         null,
         "30/360",
         0.0,
         null,
         null,
         0.0,
         "Financial Corp",
         "TreasuryYield",
         "Asset",
         "422189f4-3a7e-4bc0-b4af-39c7ef5e8206",
         10000,
         "API model",
         "Standard Cash Flow Model",
         10000,
         "Statistical model",
         "Standard Prepayment Model",
         0.0,
         1.0
        ],
        [
         "a4b809e0-8948-4660-b258-bc77ff22c619",
         "Bond_e0c25114",
         "2025-07-22",
         "TPS/CD/CP_AFS",
         null,
         null,
         "Corporate Bond Investment",
         "Bond",
         null,
         null,
         "2025-06-22",
         "2030-07-21",
         "Constant installment",
         "2030-07-21",
         null,
         null,
         "USD",
         null,
         "1000000",
         null,
         "102.5",
         null,
         "100",
         "Fixed",
         "Semi-Annual",
         null,
         null,
         0.0325,
         "CORPORATE_BONDS_01",
         0.0,
         0.0,
         "10YT",
         99.0,
         0.0,
         99.0,
         0.0,
         null,
         null,
         "30/360",
         0.0,
         null,
         null,
         0.0,
         "Financial Corp",
         "TreasuryYield",
         "Asset",
         "23f52345-01e8-4443-a431-71b102f9d75d",
         10000,
         "API model",
         "Standard Cash Flow Model",
         10000,
         "Statistical model",
         "Standard Prepayment Model",
         0.0,
         1.0
        ],
        [
         "d9f19bd9-8112-48be-baea-1701f3417599",
         "Bond_34207534",
         "2025-07-22",
         "TPS/CD/CP_AFS",
         null,
         null,
         "Corporate Bond Investment",
         "Bond",
         null,
         null,
         "2025-06-22",
         "2030-07-21",
         "Constant installment",
         "2030-07-21",
         null,
         null,
         "USD",
         null,
         "1000000",
         null,
         "102.5",
         null,
         "100",
         "Fixed",
         "Semi-Annual",
         null,
         null,
         0.0325,
         "CORPORATE_BONDS_01",
         0.0,
         0.0,
         "10YT",
         99.0,
         0.0,
         99.0,
         0.0,
         null,
         null,
         "30/360",
         0.0,
         null,
         null,
         0.0,
         "Financial Corp",
         "TreasuryYield",
         "Asset",
         "ebd51ad8-1606-44b0-914d-9603728047a6",
         10000,
         "API model",
         "Standard Cash Flow Model",
         10000,
         "Statistical model",
         "Standard Prepayment Model",
         0.0,
         1.0
        ],
        [
         "d4f9be64-ce56-44d1-a43d-ae8644b18ff9",
         "Bond_3d6e2d55",
         "2025-07-22",
         "TPS/CD/CP_AFS",
         null,
         null,
         "Corporate Bond Investment",
         "Bond",
         null,
         null,
         "2025-06-22",
         "2030-07-21",
         "Constant installment",
         "2030-07-21",
         null,
         null,
         "USD",
         null,
         "1000000",
         null,
         "102.5",
         null,
         "100",
         "Fixed",
         "Semi-Annual",
         null,
         null,
         0.0325,
         "CORPORATE_BONDS_01",
         0.0,
         0.0,
         "10YT",
         99.0,
         0.0,
         99.0,
         0.0,
         null,
         null,
         "30/360",
         0.0,
         null,
         null,
         0.0,
         "Financial Corp",
         "TreasuryYield",
         "Asset",
         "63b532a1-038c-48eb-9136-4a373626f5d6",
         10000,
         "API model",
         "Standard Cash Flow Model",
         10000,
         "Statistical model",
         "Standard Prepayment Model",
         0.0,
         1.0
        ],
        [
         "4f74f268-c8be-4542-a574-5da7c83a489a",
         "Bond_c6b6367b",
         "2025-07-22",
         "TPS/CD/CP_AFS",
         null,
         null,
         "Corporate Bond Investment",
         "Bond",
         null,
         null,
         "2025-06-22",
         "2030-07-21",
         "Constant installment",
         "2030-07-21",
         null,
         null,
         "USD",
         null,
         "1000000",
         null,
         "102.5",
         null,
         "100",
         "Fixed",
         "Semi-Annual",
         null,
         null,
         0.0325,
         "CORPORATE_BONDS_01",
         0.0,
         0.0,
         "10YT",
         99.0,
         0.0,
         99.0,
         0.0,
         null,
         null,
         "30/360",
         0.0,
         null,
         null,
         0.0,
         "Financial Corp",
         "TreasuryYield",
         "Asset",
         "cb91dd58-692a-49c5-a3fd-e654b52ca003",
         10000,
         "API model",
         "Standard Cash Flow Model",
         10000,
         "Statistical model",
         "Standard Prepayment Model",
         0.0,
         1.0
        ],
        [
         "921f22ff-17c2-473c-a91b-f3f99952a84f",
         "Bond_058c434c",
         "2025-07-22",
         "TPS/CD/CP_AFS",
         null,
         null,
         "Corporate Bond Investment",
         "Bond",
         null,
         null,
         "2025-06-22",
         "2030-07-21",
         "Constant installment",
         "2030-07-21",
         null,
         null,
         "USD",
         null,
         "1000000",
         null,
         "102.5",
         null,
         "100",
         "Fixed",
         "Semi-Annual",
         null,
         null,
         0.0325,
         "CORPORATE_BONDS_01",
         0.0,
         0.0,
         "10YT",
         99.0,
         0.0,
         99.0,
         0.0,
         null,
         null,
         "30/360",
         0.0,
         null,
         null,
         0.0,
         "Financial Corp",
         "TreasuryYield",
         "Asset",
         "8e426581-bff8-4ba1-9504-690d8e93df24",
         10000,
         "API model",
         "Standard Cash Flow Model",
         10000,
         "Statistical model",
         "Standard Prepayment Model",
         0.0,
         1.0
        ],
        [
         "7b371656-3277-4004-b2b2-a3f284ea9a9e",
         "Bond_aa318ef2",
         "2025-07-22",
         "TPS/CD/CP_AFS",
         null,
         null,
         "Corporate Bond Investment",
         "Bond",
         null,
         null,
         "2025-06-22",
         "2030-07-21",
         "Constant installment",
         "2030-07-21",
         null,
         null,
         "USD",
         null,
         "1000000",
         null,
         "102.5",
         null,
         "100",
         "Fixed",
         "Semi-Annual",
         null,
         null,
         0.0325,
         "CORPORATE_BONDS_01",
         0.0,
         0.0,
         "10YT",
         99.0,
         0.0,
         99.0,
         0.0,
         null,
         null,
         "30/360",
         0.0,
         null,
         null,
         0.0,
         "Financial Corp",
         "TreasuryYield",
         "Asset",
         "9f1c4bb7-80cb-4c81-b184-03235975fdf8",
         10000,
         "API model",
         "Standard Cash Flow Model",
         10000,
         "Statistical model",
         "Standard Prepayment Model",
         0.0,
         1.0
        ]
       ],
       "datasetInfos": [
        {
         "name": "_sqldf",
         "schema": {
          "fields": [
           {
            "metadata": {},
            "name": "analysisidentifier",
            "nullable": true,
            "type": "string"
           },
           {
            "metadata": {},
            "name": "instrumentidentifier",
            "nullable": true,
            "type": "string"
           },
           {
            "metadata": {},
            "name": "asofdate",
            "nullable": true,
            "type": "string"
           },
           {
            "metadata": {},
            "name": "accountidentifier",
            "nullable": true,
            "type": "string"
           },
           {
            "metadata": {},
            "name": "accountname",
            "nullable": true,
            "type": "string"
           },
           {
            "metadata": {},
            "name": "instrumentname",
            "nullable": true,
            "type": "string"
           },
           {
            "metadata": {},
            "name": "description",
            "nullable": true,
            "type": "string"
           },
           {
            "metadata": {},
            "name": "instrumenttype",
            "nullable": true,
            "type": "string"
           },
           {
            "metadata": {},
            "name": "instrumentsubtype",
            "nullable": true,
            "type": "string"
           },
           {
            "metadata": {},
            "name": "consumerproductcategory",
            "nullable": true,
            "type": "string"
           },
           {
            "metadata": {},
            "name": "originationdate",
            "nullable": true,
            "type": "string"
           },
           {
            "metadata": {},
            "name": "maturitydate",
            "nullable": true,
            "type": "string"
           },
           {
            "metadata": {},
            "name": "amortizationtype",
            "nullable": true,
            "type": "string"
           },
           {
            "metadata": {},
            "name": "amortizationenddate",
            "nullable": true,
            "type": "string"
           },
           {
            "metadata": {},
            "name": "isinterestonly",
            "nullable": true,
            "type": "string"
           },
           {
            "metadata": {},
            "name": "cashflowtype",
            "nullable": true,
            "type": "string"
           },
           {
            "metadata": {},
            "name": "instrumentcurrency",
            "nullable": true,
            "type": "string"
           },
           {
            "metadata": {},
            "name": "notionalportion",
            "nullable": true,
            "type": "double"
           },
           {
            "metadata": {},
            "name": "unpaidprincipalbalance",
            "nullable": true,
            "type": "string"
           },
           {
            "metadata": {},
            "name": "currentcommitmentamount",
            "nullable": true,
            "type": "double"
           },
           {
            "metadata": {},
            "name": "marketpriceoverride",
            "nullable": true,
            "type": "string"
           },
           {
            "metadata": {},
            "name": "fixedpaymentamount",
            "nullable": true,
            "type": "double"
           },
           {
            "metadata": {},
            "name": "currentbookpriceoverride",
            "nullable": true,
            "type": "string"
           },
           {
            "metadata": {},
            "name": "interestratetype",
            "nullable": true,
            "type": "string"
           },
           {
            "metadata": {},
            "name": "interestpaymentfrequency",
            "nullable": true,
            "type": "string"
           },
           {
            "metadata": {},
            "name": "curerate",
            "nullable": true,
            "type": "double"
           },
           {
            "metadata": {},
            "name": "fixedrate",
            "nullable": true,
            "type": "double"
           },
           {
            "metadata": {},
            "name": "currentrate",
            "nullable": true,
            "type": "double"
           },
           {
            "metadata": {},
            "name": "portfolioidentifier",
            "nullable": true,
            "type": "string"
           },
           {
            "metadata": {},
            "name": "interestratespread",
            "nullable": true,
            "type": "double"
           },
           {
            "metadata": {},
            "name": "interestrateindexmultiplier",
            "nullable": true,
            "type": "double"
           },
           {
            "metadata": {},
            "name": "interestrateindex",
            "nullable": true,
            "type": "string"
           },
           {
            "metadata": {},
            "name": "lifetimeinterestratecap",
            "nullable": true,
            "type": "double"
           },
           {
            "metadata": {},
            "name": "lifetimeinterestratefloor",
            "nullable": true,
            "type": "double"
           },
           {
            "metadata": {},
            "name": "periodicinterestratecap",
            "nullable": true,
            "type": "double"
           },
           {
            "metadata": {},
            "name": "periodicratefloor",
            "nullable": true,
            "type": "double"
           },
           {
            "metadata": {},
            "name": "interestrateresetfirstdate",
            "nullable": true,
            "type": "string"
           },
           {
            "metadata": {},
            "name": "interestrateresetfrequency",
            "nullable": true,
            "type": "string"
           },
           {
            "metadata": {},
            "name": "daycount",
            "nullable": true,
            "type": "string"
           },
           {
            "metadata": {},
            "name": "optionadjustedspreadoverride",
            "nullable": true,
            "type": "double"
           },
           {
            "metadata": {},
            "name": "modified",
            "nullable": true,
            "type": "string"
           },
           {
            "metadata": {},
            "name": "parmarketprice",
            "nullable": true,
            "type": "double"
           },
           {
            "metadata": {},
            "name": "servicingspread",
            "nullable": true,
            "type": "double"
           },
           {
            "metadata": {},
            "name": "company",
            "nullable": true,
            "type": "string"
           },
           {
            "metadata": {},
            "name": "discountcurve",
            "nullable": true,
            "type": "string"
           },
           {
            "metadata": {},
            "name": "accountside",
            "nullable": true,
            "type": "string"
           },
           {
            "metadata": {},
            "name": "jobidentifier",
            "nullable": true,
            "type": "string"
           },
           {
            "metadata": {},
            "name": "cashfloworder",
            "nullable": true,
            "type": "long"
           },
           {
            "metadata": {},
            "name": "cashflowsource",
            "nullable": true,
            "type": "string"
           },
           {
            "metadata": {},
            "name": "cashflowmodelname",
            "nullable": true,
            "type": "string"
           },
           {
            "metadata": {},
            "name": "prepaymentorder",
            "nullable": true,
            "type": "long"
           },
           {
            "metadata": {},
            "name": "prepaymentsource",
            "nullable": true,
            "type": "string"
           },
           {
            "metadata": {},
            "name": "prepaymentmodelname",
            "nullable": true,
            "type": "string"
           },
           {
            "metadata": {},
            "name": "prepaymentshift",
            "nullable": true,
            "type": "double"
           },
           {
            "metadata": {},
            "name": "prepaymentscalingfactor",
            "nullable": true,
            "type": "double"
           }
          ],
          "type": "struct"
         },
         "tableIdentifier": null,
         "typeStr": "pyspark.sql.dataframe.DataFrame"
        }
       ],
       "dbfsResultPath": null,
       "isJsonSchema": true,
       "metadata": {
        "createTempViewForImplicitDf": true,
        "dataframeName": "_sqldf",
        "executionCount": 19
       },
       "overflow": false,
       "plotOptions": {
        "customPlotOptions": {},
        "displayType": "table",
        "pivotAggregation": null,
        "pivotColumns": null,
        "xColumns": null,
        "yColumns": null
       },
       "removedWidgets": [],
       "schema": [
        {
         "metadata": "{}",
         "name": "analysisidentifier",
         "type": "\"string\""
        },
        {
         "metadata": "{}",
         "name": "instrumentidentifier",
         "type": "\"string\""
        },
        {
         "metadata": "{}",
         "name": "asofdate",
         "type": "\"string\""
        },
        {
         "metadata": "{}",
         "name": "accountidentifier",
         "type": "\"string\""
        },
        {
         "metadata": "{}",
         "name": "accountname",
         "type": "\"string\""
        },
        {
         "metadata": "{}",
         "name": "instrumentname",
         "type": "\"string\""
        },
        {
         "metadata": "{}",
         "name": "description",
         "type": "\"string\""
        },
        {
         "metadata": "{}",
         "name": "instrumenttype",
         "type": "\"string\""
        },
        {
         "metadata": "{}",
         "name": "instrumentsubtype",
         "type": "\"string\""
        },
        {
         "metadata": "{}",
         "name": "consumerproductcategory",
         "type": "\"string\""
        },
        {
         "metadata": "{}",
         "name": "originationdate",
         "type": "\"string\""
        },
        {
         "metadata": "{}",
         "name": "maturitydate",
         "type": "\"string\""
        },
        {
         "metadata": "{}",
         "name": "amortizationtype",
         "type": "\"string\""
        },
        {
         "metadata": "{}",
         "name": "amortizationenddate",
         "type": "\"string\""
        },
        {
         "metadata": "{}",
         "name": "isinterestonly",
         "type": "\"string\""
        },
        {
         "metadata": "{}",
         "name": "cashflowtype",
         "type": "\"string\""
        },
        {
         "metadata": "{}",
         "name": "instrumentcurrency",
         "type": "\"string\""
        },
        {
         "metadata": "{}",
         "name": "notionalportion",
         "type": "\"double\""
        },
        {
         "metadata": "{}",
         "name": "unpaidprincipalbalance",
         "type": "\"string\""
        },
        {
         "metadata": "{}",
         "name": "currentcommitmentamount",
         "type": "\"double\""
        },
        {
         "metadata": "{}",
         "name": "marketpriceoverride",
         "type": "\"string\""
        },
        {
         "metadata": "{}",
         "name": "fixedpaymentamount",
         "type": "\"double\""
        },
        {
         "metadata": "{}",
         "name": "currentbookpriceoverride",
         "type": "\"string\""
        },
        {
         "metadata": "{}",
         "name": "interestratetype",
         "type": "\"string\""
        },
        {
         "metadata": "{}",
         "name": "interestpaymentfrequency",
         "type": "\"string\""
        },
        {
         "metadata": "{}",
         "name": "curerate",
         "type": "\"double\""
        },
        {
         "metadata": "{}",
         "name": "fixedrate",
         "type": "\"double\""
        },
        {
         "metadata": "{}",
         "name": "currentrate",
         "type": "\"double\""
        },
        {
         "metadata": "{}",
         "name": "portfolioidentifier",
         "type": "\"string\""
        },
        {
         "metadata": "{}",
         "name": "interestratespread",
         "type": "\"double\""
        },
        {
         "metadata": "{}",
         "name": "interestrateindexmultiplier",
         "type": "\"double\""
        },
        {
         "metadata": "{}",
         "name": "interestrateindex",
         "type": "\"string\""
        },
        {
         "metadata": "{}",
         "name": "lifetimeinterestratecap",
         "type": "\"double\""
        },
        {
         "metadata": "{}",
         "name": "lifetimeinterestratefloor",
         "type": "\"double\""
        },
        {
         "metadata": "{}",
         "name": "periodicinterestratecap",
         "type": "\"double\""
        },
        {
         "metadata": "{}",
         "name": "periodicratefloor",
         "type": "\"double\""
        },
        {
         "metadata": "{}",
         "name": "interestrateresetfirstdate",
         "type": "\"string\""
        },
        {
         "metadata": "{}",
         "name": "interestrateresetfrequency",
         "type": "\"string\""
        },
        {
         "metadata": "{}",
         "name": "daycount",
         "type": "\"string\""
        },
        {
         "metadata": "{}",
         "name": "optionadjustedspreadoverride",
         "type": "\"double\""
        },
        {
         "metadata": "{}",
         "name": "modified",
         "type": "\"string\""
        },
        {
         "metadata": "{}",
         "name": "parmarketprice",
         "type": "\"double\""
        },
        {
         "metadata": "{}",
         "name": "servicingspread",
         "type": "\"double\""
        },
        {
         "metadata": "{}",
         "name": "company",
         "type": "\"string\""
        },
        {
         "metadata": "{}",
         "name": "discountcurve",
         "type": "\"string\""
        },
        {
         "metadata": "{}",
         "name": "accountside",
         "type": "\"string\""
        },
        {
         "metadata": "{}",
         "name": "jobidentifier",
         "type": "\"string\""
        },
        {
         "metadata": "{}",
         "name": "cashfloworder",
         "type": "\"long\""
        },
        {
         "metadata": "{}",
         "name": "cashflowsource",
         "type": "\"string\""
        },
        {
         "metadata": "{}",
         "name": "cashflowmodelname",
         "type": "\"string\""
        },
        {
         "metadata": "{}",
         "name": "prepaymentorder",
         "type": "\"long\""
        },
        {
         "metadata": "{}",
         "name": "prepaymentsource",
         "type": "\"string\""
        },
        {
         "metadata": "{}",
         "name": "prepaymentmodelname",
         "type": "\"string\""
        },
        {
         "metadata": "{}",
         "name": "prepaymentshift",
         "type": "\"double\""
        },
        {
         "metadata": "{}",
         "name": "prepaymentscalingfactor",
         "type": "\"double\""
        }
       ],
       "type": "table"
      }
     },
     "output_type": "display_data"
    }
   ],
   "source": [
    "%sql\n",
    "select * from users.anhhoang_chu.pulsar_instrument_reference;"
   ]
  },
  {
   "cell_type": "code",
   "execution_count": 0,
   "metadata": {
    "application/vnd.databricks.v1+cell": {
     "cellMetadata": {
      "byteLimit": 2048000,
      "implicitDf": true,
      "rowLimit": 10000
     },
     "inputWidgets": {},
     "nuid": "8c291df6-ffcd-442c-a326-92b55e849814",
     "showTitle": false,
     "tableResultSettingsMap": {},
     "title": ""
    }
   },
   "outputs": [
    {
     "output_type": "display_data",
     "data": {
      "text/html": [
       "<style scoped>\n",
       "  .table-result-container {\n",
       "    max-height: 300px;\n",
       "    overflow: auto;\n",
       "  }\n",
       "  table, th, td {\n",
       "    border: 1px solid black;\n",
       "    border-collapse: collapse;\n",
       "  }\n",
       "  th, td {\n",
       "    padding: 5px;\n",
       "  }\n",
       "  th {\n",
       "    text-align: left;\n",
       "  }\n",
       "</style><div class='table-result-container'><table class='table-result'><thead style='background-color: white'><tr><th>analysisidentifier</th><th>jobidentifier</th><th>instrumentidentifier</th><th>errorcode</th><th>errormessage</th><th>modulecode</th><th>asofdate</th><th>scenarioidentifier</th><th>severity</th><th>portfolioidentifier</th></tr></thead><tbody><tr><td>ff05644d-3f68-428e-a7c2-f4423187aede</td><td>422189f4-3a7e-4bc0-b4af-39c7ef5e8206</td><td>Bond_33442b00</td><td>1</td><td>Warning: High prepayment rate detected for instrument Bond_33442b00</td><td>101</td><td>null</td><td>null</td><td>Warning</td><td>CORPORATE_BONDS_01</td></tr><tr><td>9b676327-34e3-4b26-9cce-c04e5b4c313c</td><td>cb6c6724-98d4-40b6-8fb2-ac35a55dc9d6</td><td>Bond_78bdcefc</td><td>1</td><td>Warning: High prepayment rate detected for instrument Bond_78bdcefc</td><td>101</td><td>null</td><td>null</td><td>Warning</td><td>CORPORATE_BONDS_01</td></tr><tr><td>585a0335-b676-485b-9945-0144c9c9f5f2</td><td>3f61ed8d-e34e-44fa-8dcd-3a333ee06d8a</td><td>Bond_3016acdb</td><td>1</td><td>Warning: High prepayment rate detected for instrument Bond_3016acdb</td><td>101</td><td>null</td><td>null</td><td>Warning</td><td>CORPORATE_BONDS_01</td></tr><tr><td>a4b809e0-8948-4660-b258-bc77ff22c619</td><td>23f52345-01e8-4443-a431-71b102f9d75d</td><td>Bond_e0c25114</td><td>1</td><td>Warning: High prepayment rate detected for instrument Bond_e0c25114</td><td>101</td><td>null</td><td>null</td><td>Warning</td><td>CORPORATE_BONDS_01</td></tr><tr><td>d9f19bd9-8112-48be-baea-1701f3417599</td><td>ebd51ad8-1606-44b0-914d-9603728047a6</td><td>Bond_34207534</td><td>1</td><td>Warning: High prepayment rate detected for instrument Bond_34207534</td><td>101</td><td>null</td><td>null</td><td>Warning</td><td>CORPORATE_BONDS_01</td></tr><tr><td>d4f9be64-ce56-44d1-a43d-ae8644b18ff9</td><td>63b532a1-038c-48eb-9136-4a373626f5d6</td><td>Bond_3d6e2d55</td><td>1</td><td>Warning: High prepayment rate detected for instrument Bond_3d6e2d55</td><td>101</td><td>null</td><td>null</td><td>Warning</td><td>CORPORATE_BONDS_01</td></tr><tr><td>4f74f268-c8be-4542-a574-5da7c83a489a</td><td>cb91dd58-692a-49c5-a3fd-e654b52ca003</td><td>Bond_c6b6367b</td><td>1</td><td>Warning: High prepayment rate detected for instrument Bond_c6b6367b</td><td>101</td><td>null</td><td>null</td><td>Warning</td><td>CORPORATE_BONDS_01</td></tr><tr><td>7b371656-3277-4004-b2b2-a3f284ea9a9e</td><td>9f1c4bb7-80cb-4c81-b184-03235975fdf8</td><td>Bond_aa318ef2</td><td>1</td><td>Warning: High prepayment rate detected for instrument Bond_aa318ef2</td><td>101</td><td>null</td><td>null</td><td>Warning</td><td>CORPORATE_BONDS_01</td></tr><tr><td>921f22ff-17c2-473c-a91b-f3f99952a84f</td><td>8e426581-bff8-4ba1-9504-690d8e93df24</td><td>Bond_058c434c</td><td>1</td><td>Warning: High prepayment rate detected for instrument Bond_058c434c</td><td>101</td><td>null</td><td>null</td><td>Warning</td><td>CORPORATE_BONDS_01</td></tr></tbody></table></div>"
      ]
     },
     "metadata": {
      "application/vnd.databricks.v1+output": {
       "addedWidgets": {},
       "aggData": [],
       "aggError": "",
       "aggOverflow": false,
       "aggSchema": [],
       "aggSeriesLimitReached": false,
       "aggType": "",
       "arguments": {},
       "columnCustomDisplayInfos": {},
       "data": [
        [
         "ff05644d-3f68-428e-a7c2-f4423187aede",
         "422189f4-3a7e-4bc0-b4af-39c7ef5e8206",
         "Bond_33442b00",
         1,
         "Warning: High prepayment rate detected for instrument Bond_33442b00",
         101,
         null,
         null,
         "Warning",
         "CORPORATE_BONDS_01"
        ],
        [
         "9b676327-34e3-4b26-9cce-c04e5b4c313c",
         "cb6c6724-98d4-40b6-8fb2-ac35a55dc9d6",
         "Bond_78bdcefc",
         1,
         "Warning: High prepayment rate detected for instrument Bond_78bdcefc",
         101,
         null,
         null,
         "Warning",
         "CORPORATE_BONDS_01"
        ],
        [
         "585a0335-b676-485b-9945-0144c9c9f5f2",
         "3f61ed8d-e34e-44fa-8dcd-3a333ee06d8a",
         "Bond_3016acdb",
         1,
         "Warning: High prepayment rate detected for instrument Bond_3016acdb",
         101,
         null,
         null,
         "Warning",
         "CORPORATE_BONDS_01"
        ],
        [
         "a4b809e0-8948-4660-b258-bc77ff22c619",
         "23f52345-01e8-4443-a431-71b102f9d75d",
         "Bond_e0c25114",
         1,
         "Warning: High prepayment rate detected for instrument Bond_e0c25114",
         101,
         null,
         null,
         "Warning",
         "CORPORATE_BONDS_01"
        ],
        [
         "d9f19bd9-8112-48be-baea-1701f3417599",
         "ebd51ad8-1606-44b0-914d-9603728047a6",
         "Bond_34207534",
         1,
         "Warning: High prepayment rate detected for instrument Bond_34207534",
         101,
         null,
         null,
         "Warning",
         "CORPORATE_BONDS_01"
        ],
        [
         "d4f9be64-ce56-44d1-a43d-ae8644b18ff9",
         "63b532a1-038c-48eb-9136-4a373626f5d6",
         "Bond_3d6e2d55",
         1,
         "Warning: High prepayment rate detected for instrument Bond_3d6e2d55",
         101,
         null,
         null,
         "Warning",
         "CORPORATE_BONDS_01"
        ],
        [
         "4f74f268-c8be-4542-a574-5da7c83a489a",
         "cb91dd58-692a-49c5-a3fd-e654b52ca003",
         "Bond_c6b6367b",
         1,
         "Warning: High prepayment rate detected for instrument Bond_c6b6367b",
         101,
         null,
         null,
         "Warning",
         "CORPORATE_BONDS_01"
        ],
        [
         "7b371656-3277-4004-b2b2-a3f284ea9a9e",
         "9f1c4bb7-80cb-4c81-b184-03235975fdf8",
         "Bond_aa318ef2",
         1,
         "Warning: High prepayment rate detected for instrument Bond_aa318ef2",
         101,
         null,
         null,
         "Warning",
         "CORPORATE_BONDS_01"
        ],
        [
         "921f22ff-17c2-473c-a91b-f3f99952a84f",
         "8e426581-bff8-4ba1-9504-690d8e93df24",
         "Bond_058c434c",
         1,
         "Warning: High prepayment rate detected for instrument Bond_058c434c",
         101,
         null,
         null,
         "Warning",
         "CORPORATE_BONDS_01"
        ]
       ],
       "datasetInfos": [
        {
         "name": "_sqldf",
         "schema": {
          "fields": [
           {
            "metadata": {},
            "name": "analysisidentifier",
            "nullable": true,
            "type": "string"
           },
           {
            "metadata": {},
            "name": "jobidentifier",
            "nullable": true,
            "type": "string"
           },
           {
            "metadata": {},
            "name": "instrumentidentifier",
            "nullable": true,
            "type": "string"
           },
           {
            "metadata": {},
            "name": "errorcode",
            "nullable": true,
            "type": "long"
           },
           {
            "metadata": {},
            "name": "errormessage",
            "nullable": true,
            "type": "string"
           },
           {
            "metadata": {},
            "name": "modulecode",
            "nullable": true,
            "type": "long"
           },
           {
            "metadata": {},
            "name": "asofdate",
            "nullable": true,
            "type": "string"
           },
           {
            "metadata": {},
            "name": "scenarioidentifier",
            "nullable": true,
            "type": "string"
           },
           {
            "metadata": {},
            "name": "severity",
            "nullable": true,
            "type": "string"
           },
           {
            "metadata": {},
            "name": "portfolioidentifier",
            "nullable": true,
            "type": "string"
           }
          ],
          "type": "struct"
         },
         "tableIdentifier": null,
         "typeStr": "pyspark.sql.dataframe.DataFrame"
        }
       ],
       "dbfsResultPath": null,
       "isJsonSchema": true,
       "metadata": {
        "createTempViewForImplicitDf": true,
        "dataframeName": "_sqldf",
        "executionCount": 20
       },
       "overflow": false,
       "plotOptions": {
        "customPlotOptions": {},
        "displayType": "table",
        "pivotAggregation": null,
        "pivotColumns": null,
        "xColumns": null,
        "yColumns": null
       },
       "removedWidgets": [],
       "schema": [
        {
         "metadata": "{}",
         "name": "analysisidentifier",
         "type": "\"string\""
        },
        {
         "metadata": "{}",
         "name": "jobidentifier",
         "type": "\"string\""
        },
        {
         "metadata": "{}",
         "name": "instrumentidentifier",
         "type": "\"string\""
        },
        {
         "metadata": "{}",
         "name": "errorcode",
         "type": "\"long\""
        },
        {
         "metadata": "{}",
         "name": "errormessage",
         "type": "\"string\""
        },
        {
         "metadata": "{}",
         "name": "modulecode",
         "type": "\"long\""
        },
        {
         "metadata": "{}",
         "name": "asofdate",
         "type": "\"string\""
        },
        {
         "metadata": "{}",
         "name": "scenarioidentifier",
         "type": "\"string\""
        },
        {
         "metadata": "{}",
         "name": "severity",
         "type": "\"string\""
        },
        {
         "metadata": "{}",
         "name": "portfolioidentifier",
         "type": "\"string\""
        }
       ],
       "type": "table"
      }
     },
     "output_type": "display_data"
    }
   ],
   "source": [
    "%sql\n",
    "select * from users.anhhoang_chu.pulsar_instrument_error;"
   ]
  },
  {
   "cell_type": "code",
   "execution_count": 0,
   "metadata": {
    "application/vnd.databricks.v1+cell": {
     "cellMetadata": {
      "byteLimit": 2048000,
      "implicitDf": true,
      "rowLimit": 10000
     },
     "inputWidgets": {},
     "nuid": "0492c859-e6db-4d25-9b67-af6bfaa85107",
     "showTitle": false,
     "tableResultSettingsMap": {},
     "title": ""
    }
   },
   "outputs": [
    {
     "output_type": "display_data",
     "data": {
      "text/html": [
       "<style scoped>\n",
       "  .table-result-container {\n",
       "    max-height: 300px;\n",
       "    overflow: auto;\n",
       "  }\n",
       "  table, th, td {\n",
       "    border: 1px solid black;\n",
       "    border-collapse: collapse;\n",
       "  }\n",
       "  th, td {\n",
       "    padding: 5px;\n",
       "  }\n",
       "  th {\n",
       "    text-align: left;\n",
       "  }\n",
       "</style><div class='table-result-container'><table class='table-result'><thead style='background-color: white'><tr><th>analysisidentifier</th><th>reportingdate</th><th>inputscenarioidentifier</th><th>instrumentidentifier</th><th>scenarioidentifier</th><th>modelname</th><th>modeloutput</th><th>asofdate</th><th>term</th><th>timesegment</th><th>annualizedcumulativepd</th><th>forwardpd</th><th>cumulativepd</th><th>marginalpd</th><th>maturityriskpd</th><th>maturityriskel</th><th>lgd</th><th>maturityrisklgd</th><th>lossrateannualized</th><th>lossratecumulative</th><th>ead</th><th>ccf</th><th>ugd</th><th>prepaymentrate</th><th>forwardprepaymentrate</th><th>cumulativeprepaymentrate</th><th>recovery</th><th>netchargeoff</th><th>annualizedpdoneyearprojection</th><th>stage1conditionalannualizedcumulativepd</th><th>stage2conditionalannualizedcumulativepd</th><th>stage3conditionalannualizedcumulativepd</th><th>impliedstagerating</th><th>netchargeoffamount</th><th>collateralvalue</th><th>expectedcreditlossamount</th><th>expectedcreditlossamountlifetimeprojection</th><th>expectedcreditlossamountoneyearprojection</th><th>exposure</th><th>grossinterestincome</th><th>totalinterestexpense</th><th>riskweightedassets</th><th>stage1portion</th><th>stage2portion</th><th>stage3portion</th><th>transitionprobabilityfromstage1tostage2</th><th>transitionprobabilityfromstage1tostage3</th><th>transitionprobabilityfromstage2tostage1</th><th>transitionprobabilityfromstage2tostage3</th><th>transitionprobabilityfromstage3tostage2</th><th>balancegrowthrate</th><th>lgdvariance</th><th>transactionsequence</th><th>creditotherthantemporaryimpairment</th><th>noncreditotherthantemporaryimpairment</th><th>temporaryimpairment</th><th>othercomprehensiveincome</th><th>otherthantemporaryimpairmentprobability</th><th>jobidentifier</th><th>valuedate</th><th>decayrate</th><th>rateresponserate</th><th>usagerate</th><th>liquidityhaircut</th><th>singlemonthlymortalityrate</th><th>edfimpliedrating</th><th>optionarmminimumpaymentportion</th><th>optionarminterestonlyportion</th><th>optionarmprincipalandinterestportion</th><th>forbearanceportion</th><th>forwarddecayrate</th></tr></thead><tbody><tr><td>null</td><td>null</td><td>null</td><td>Bond_3016acdb</td><td>Base</td><td>Standard Risk Model</td><td>Risk Assessment</td><td>2025-07-22</td><td>1.0</td><td>null</td><td>0.012</td><td>0.011</td><td>0.012</td><td>0.001</td><td>null</td><td>null</td><td>0.45</td><td>null</td><td>0.0054</td><td>0.0054</td><td>1000000.0</td><td>null</td><td>null</td><td>null</td><td>0.15</td><td>null</td><td>0.55</td><td>null</td><td>0.013</td><td>0.01</td><td>0.05</td><td>0.95</td><td>Investment Grade</td><td>null</td><td>null</td><td>5400.0</td><td>27000.0</td><td>5400.0</td><td>1000000.0</td><td>32500.0</td><td>null</td><td>750000.0</td><td>0.85</td><td>0.12</td><td>0.03</td><td>0.05</td><td>0.002</td><td>0.15</td><td>0.08</td><td>0.1</td><td>0.02</td><td>null</td><td>null</td><td>null</td><td>null</td><td>null</td><td>null</td><td>null</td><td>null</td><td>null</td><td>null</td><td>null</td><td>null</td><td>null</td><td>null</td><td>BBB</td><td>null</td><td>null</td><td>null</td><td>null</td><td>null</td></tr><tr><td>null</td><td>null</td><td>null</td><td>Bond_3016acdb</td><td>Base</td><td>Standard Risk Model</td><td>Risk Assessment</td><td>2026-07-22</td><td>1.0</td><td>null</td><td>0.012</td><td>0.011</td><td>0.012</td><td>0.001</td><td>null</td><td>null</td><td>0.45</td><td>null</td><td>0.0054</td><td>0.0054</td><td>1000000.0</td><td>null</td><td>null</td><td>null</td><td>0.15</td><td>null</td><td>0.55</td><td>null</td><td>0.013</td><td>0.01</td><td>0.05</td><td>0.95</td><td>Investment Grade</td><td>null</td><td>null</td><td>5400.0</td><td>27000.0</td><td>5400.0</td><td>1000000.0</td><td>32500.0</td><td>null</td><td>750000.0</td><td>0.85</td><td>0.12</td><td>0.03</td><td>0.05</td><td>0.002</td><td>0.15</td><td>0.08</td><td>0.1</td><td>0.02</td><td>null</td><td>null</td><td>null</td><td>null</td><td>null</td><td>null</td><td>null</td><td>null</td><td>null</td><td>null</td><td>null</td><td>null</td><td>null</td><td>null</td><td>BBB</td><td>null</td><td>null</td><td>null</td><td>null</td><td>null</td></tr><tr><td>null</td><td>null</td><td>null</td><td>Bond_78bdcefc</td><td>Base</td><td>Standard Risk Model</td><td>Risk Assessment</td><td>2025-07-22</td><td>1.0</td><td>null</td><td>0.012</td><td>0.011</td><td>0.012</td><td>0.001</td><td>null</td><td>null</td><td>0.45</td><td>null</td><td>0.0054</td><td>0.0054</td><td>1000000.0</td><td>null</td><td>null</td><td>null</td><td>0.15</td><td>null</td><td>0.55</td><td>null</td><td>0.013</td><td>0.01</td><td>0.05</td><td>0.95</td><td>Investment Grade</td><td>null</td><td>null</td><td>5400.0</td><td>27000.0</td><td>5400.0</td><td>1000000.0</td><td>32500.0</td><td>null</td><td>750000.0</td><td>0.85</td><td>0.12</td><td>0.03</td><td>0.05</td><td>0.002</td><td>0.15</td><td>0.08</td><td>0.1</td><td>0.02</td><td>null</td><td>null</td><td>null</td><td>null</td><td>null</td><td>null</td><td>null</td><td>null</td><td>null</td><td>null</td><td>null</td><td>null</td><td>null</td><td>null</td><td>BBB</td><td>null</td><td>null</td><td>null</td><td>null</td><td>null</td></tr><tr><td>null</td><td>null</td><td>null</td><td>Bond_78bdcefc</td><td>Base</td><td>Standard Risk Model</td><td>Risk Assessment</td><td>2026-07-22</td><td>1.0</td><td>null</td><td>0.012</td><td>0.011</td><td>0.012</td><td>0.001</td><td>null</td><td>null</td><td>0.45</td><td>null</td><td>0.0054</td><td>0.0054</td><td>1000000.0</td><td>null</td><td>null</td><td>null</td><td>0.15</td><td>null</td><td>0.55</td><td>null</td><td>0.013</td><td>0.01</td><td>0.05</td><td>0.95</td><td>Investment Grade</td><td>null</td><td>null</td><td>5400.0</td><td>27000.0</td><td>5400.0</td><td>1000000.0</td><td>32500.0</td><td>null</td><td>750000.0</td><td>0.85</td><td>0.12</td><td>0.03</td><td>0.05</td><td>0.002</td><td>0.15</td><td>0.08</td><td>0.1</td><td>0.02</td><td>null</td><td>null</td><td>null</td><td>null</td><td>null</td><td>null</td><td>null</td><td>null</td><td>null</td><td>null</td><td>null</td><td>null</td><td>null</td><td>null</td><td>BBB</td><td>null</td><td>null</td><td>null</td><td>null</td><td>null</td></tr><tr><td>null</td><td>null</td><td>null</td><td>Bond_33442b00</td><td>Base</td><td>Standard Risk Model</td><td>Risk Assessment</td><td>2025-07-22</td><td>1.0</td><td>null</td><td>0.012</td><td>0.011</td><td>0.012</td><td>0.001</td><td>null</td><td>null</td><td>0.45</td><td>null</td><td>0.0054</td><td>0.0054</td><td>1000000.0</td><td>null</td><td>null</td><td>null</td><td>0.15</td><td>null</td><td>0.55</td><td>null</td><td>0.013</td><td>0.01</td><td>0.05</td><td>0.95</td><td>Investment Grade</td><td>null</td><td>null</td><td>5400.0</td><td>27000.0</td><td>5400.0</td><td>1000000.0</td><td>32500.0</td><td>null</td><td>750000.0</td><td>0.85</td><td>0.12</td><td>0.03</td><td>0.05</td><td>0.002</td><td>0.15</td><td>0.08</td><td>0.1</td><td>0.02</td><td>null</td><td>null</td><td>null</td><td>null</td><td>null</td><td>null</td><td>null</td><td>null</td><td>null</td><td>null</td><td>null</td><td>null</td><td>null</td><td>null</td><td>BBB</td><td>null</td><td>null</td><td>null</td><td>null</td><td>null</td></tr><tr><td>null</td><td>null</td><td>null</td><td>Bond_33442b00</td><td>Base</td><td>Standard Risk Model</td><td>Risk Assessment</td><td>2026-07-22</td><td>1.0</td><td>null</td><td>0.012</td><td>0.011</td><td>0.012</td><td>0.001</td><td>null</td><td>null</td><td>0.45</td><td>null</td><td>0.0054</td><td>0.0054</td><td>1000000.0</td><td>null</td><td>null</td><td>null</td><td>0.15</td><td>null</td><td>0.55</td><td>null</td><td>0.013</td><td>0.01</td><td>0.05</td><td>0.95</td><td>Investment Grade</td><td>null</td><td>null</td><td>5400.0</td><td>27000.0</td><td>5400.0</td><td>1000000.0</td><td>32500.0</td><td>null</td><td>750000.0</td><td>0.85</td><td>0.12</td><td>0.03</td><td>0.05</td><td>0.002</td><td>0.15</td><td>0.08</td><td>0.1</td><td>0.02</td><td>null</td><td>null</td><td>null</td><td>null</td><td>null</td><td>null</td><td>null</td><td>null</td><td>null</td><td>null</td><td>null</td><td>null</td><td>null</td><td>null</td><td>BBB</td><td>null</td><td>null</td><td>null</td><td>null</td><td>null</td></tr><tr><td>null</td><td>null</td><td>null</td><td>Bond_3d6e2d55</td><td>Base</td><td>Standard Risk Model</td><td>Risk Assessment</td><td>2025-07-22</td><td>1.0</td><td>null</td><td>0.012</td><td>0.011</td><td>0.012</td><td>0.001</td><td>null</td><td>null</td><td>0.45</td><td>null</td><td>0.0054</td><td>0.0054</td><td>1000000.0</td><td>null</td><td>null</td><td>null</td><td>0.15</td><td>null</td><td>0.55</td><td>null</td><td>0.013</td><td>0.01</td><td>0.05</td><td>0.95</td><td>Investment Grade</td><td>null</td><td>null</td><td>5400.0</td><td>27000.0</td><td>5400.0</td><td>1000000.0</td><td>32500.0</td><td>null</td><td>750000.0</td><td>0.85</td><td>0.12</td><td>0.03</td><td>0.05</td><td>0.002</td><td>0.15</td><td>0.08</td><td>0.1</td><td>0.02</td><td>null</td><td>null</td><td>null</td><td>null</td><td>null</td><td>null</td><td>null</td><td>null</td><td>null</td><td>null</td><td>null</td><td>null</td><td>null</td><td>null</td><td>BBB</td><td>null</td><td>null</td><td>null</td><td>null</td><td>null</td></tr><tr><td>null</td><td>null</td><td>null</td><td>Bond_3d6e2d55</td><td>Base</td><td>Standard Risk Model</td><td>Risk Assessment</td><td>2026-07-22</td><td>1.0</td><td>null</td><td>0.012</td><td>0.011</td><td>0.012</td><td>0.001</td><td>null</td><td>null</td><td>0.45</td><td>null</td><td>0.0054</td><td>0.0054</td><td>1000000.0</td><td>null</td><td>null</td><td>null</td><td>0.15</td><td>null</td><td>0.55</td><td>null</td><td>0.013</td><td>0.01</td><td>0.05</td><td>0.95</td><td>Investment Grade</td><td>null</td><td>null</td><td>5400.0</td><td>27000.0</td><td>5400.0</td><td>1000000.0</td><td>32500.0</td><td>null</td><td>750000.0</td><td>0.85</td><td>0.12</td><td>0.03</td><td>0.05</td><td>0.002</td><td>0.15</td><td>0.08</td><td>0.1</td><td>0.02</td><td>null</td><td>null</td><td>null</td><td>null</td><td>null</td><td>null</td><td>null</td><td>null</td><td>null</td><td>null</td><td>null</td><td>null</td><td>null</td><td>null</td><td>BBB</td><td>null</td><td>null</td><td>null</td><td>null</td><td>null</td></tr><tr><td>null</td><td>null</td><td>null</td><td>Bond_c6b6367b</td><td>Base</td><td>Standard Risk Model</td><td>Risk Assessment</td><td>2025-07-22</td><td>1.0</td><td>null</td><td>0.012</td><td>0.011</td><td>0.012</td><td>0.001</td><td>null</td><td>null</td><td>0.45</td><td>null</td><td>0.0054</td><td>0.0054</td><td>1000000.0</td><td>null</td><td>null</td><td>null</td><td>0.15</td><td>null</td><td>0.55</td><td>null</td><td>0.013</td><td>0.01</td><td>0.05</td><td>0.95</td><td>Investment Grade</td><td>null</td><td>null</td><td>5400.0</td><td>27000.0</td><td>5400.0</td><td>1000000.0</td><td>32500.0</td><td>null</td><td>750000.0</td><td>0.85</td><td>0.12</td><td>0.03</td><td>0.05</td><td>0.002</td><td>0.15</td><td>0.08</td><td>0.1</td><td>0.02</td><td>null</td><td>null</td><td>null</td><td>null</td><td>null</td><td>null</td><td>null</td><td>null</td><td>null</td><td>null</td><td>null</td><td>null</td><td>null</td><td>null</td><td>BBB</td><td>null</td><td>null</td><td>null</td><td>null</td><td>null</td></tr><tr><td>null</td><td>null</td><td>null</td><td>Bond_c6b6367b</td><td>Base</td><td>Standard Risk Model</td><td>Risk Assessment</td><td>2026-07-22</td><td>1.0</td><td>null</td><td>0.012</td><td>0.011</td><td>0.012</td><td>0.001</td><td>null</td><td>null</td><td>0.45</td><td>null</td><td>0.0054</td><td>0.0054</td><td>1000000.0</td><td>null</td><td>null</td><td>null</td><td>0.15</td><td>null</td><td>0.55</td><td>null</td><td>0.013</td><td>0.01</td><td>0.05</td><td>0.95</td><td>Investment Grade</td><td>null</td><td>null</td><td>5400.0</td><td>27000.0</td><td>5400.0</td><td>1000000.0</td><td>32500.0</td><td>null</td><td>750000.0</td><td>0.85</td><td>0.12</td><td>0.03</td><td>0.05</td><td>0.002</td><td>0.15</td><td>0.08</td><td>0.1</td><td>0.02</td><td>null</td><td>null</td><td>null</td><td>null</td><td>null</td><td>null</td><td>null</td><td>null</td><td>null</td><td>null</td><td>null</td><td>null</td><td>null</td><td>null</td><td>BBB</td><td>null</td><td>null</td><td>null</td><td>null</td><td>null</td></tr><tr><td>null</td><td>null</td><td>null</td><td>Bond_e0c25114</td><td>Base</td><td>Standard Risk Model</td><td>Risk Assessment</td><td>2025-07-22</td><td>1.0</td><td>null</td><td>0.012</td><td>0.011</td><td>0.012</td><td>0.001</td><td>null</td><td>null</td><td>0.45</td><td>null</td><td>0.0054</td><td>0.0054</td><td>1000000.0</td><td>null</td><td>null</td><td>null</td><td>0.15</td><td>null</td><td>0.55</td><td>null</td><td>0.013</td><td>0.01</td><td>0.05</td><td>0.95</td><td>Investment Grade</td><td>null</td><td>null</td><td>5400.0</td><td>27000.0</td><td>5400.0</td><td>1000000.0</td><td>32500.0</td><td>null</td><td>750000.0</td><td>0.85</td><td>0.12</td><td>0.03</td><td>0.05</td><td>0.002</td><td>0.15</td><td>0.08</td><td>0.1</td><td>0.02</td><td>null</td><td>null</td><td>null</td><td>null</td><td>null</td><td>null</td><td>null</td><td>null</td><td>null</td><td>null</td><td>null</td><td>null</td><td>null</td><td>null</td><td>BBB</td><td>null</td><td>null</td><td>null</td><td>null</td><td>null</td></tr><tr><td>null</td><td>null</td><td>null</td><td>Bond_e0c25114</td><td>Base</td><td>Standard Risk Model</td><td>Risk Assessment</td><td>2026-07-22</td><td>1.0</td><td>null</td><td>0.012</td><td>0.011</td><td>0.012</td><td>0.001</td><td>null</td><td>null</td><td>0.45</td><td>null</td><td>0.0054</td><td>0.0054</td><td>1000000.0</td><td>null</td><td>null</td><td>null</td><td>0.15</td><td>null</td><td>0.55</td><td>null</td><td>0.013</td><td>0.01</td><td>0.05</td><td>0.95</td><td>Investment Grade</td><td>null</td><td>null</td><td>5400.0</td><td>27000.0</td><td>5400.0</td><td>1000000.0</td><td>32500.0</td><td>null</td><td>750000.0</td><td>0.85</td><td>0.12</td><td>0.03</td><td>0.05</td><td>0.002</td><td>0.15</td><td>0.08</td><td>0.1</td><td>0.02</td><td>null</td><td>null</td><td>null</td><td>null</td><td>null</td><td>null</td><td>null</td><td>null</td><td>null</td><td>null</td><td>null</td><td>null</td><td>null</td><td>null</td><td>BBB</td><td>null</td><td>null</td><td>null</td><td>null</td><td>null</td></tr><tr><td>null</td><td>null</td><td>null</td><td>Bond_34207534</td><td>Base</td><td>Standard Risk Model</td><td>Risk Assessment</td><td>2025-07-22</td><td>1.0</td><td>null</td><td>0.012</td><td>0.011</td><td>0.012</td><td>0.001</td><td>null</td><td>null</td><td>0.45</td><td>null</td><td>0.0054</td><td>0.0054</td><td>1000000.0</td><td>null</td><td>null</td><td>null</td><td>0.15</td><td>null</td><td>0.55</td><td>null</td><td>0.013</td><td>0.01</td><td>0.05</td><td>0.95</td><td>Investment Grade</td><td>null</td><td>null</td><td>5400.0</td><td>27000.0</td><td>5400.0</td><td>1000000.0</td><td>32500.0</td><td>null</td><td>750000.0</td><td>0.85</td><td>0.12</td><td>0.03</td><td>0.05</td><td>0.002</td><td>0.15</td><td>0.08</td><td>0.1</td><td>0.02</td><td>null</td><td>null</td><td>null</td><td>null</td><td>null</td><td>null</td><td>null</td><td>null</td><td>null</td><td>null</td><td>null</td><td>null</td><td>null</td><td>null</td><td>BBB</td><td>null</td><td>null</td><td>null</td><td>null</td><td>null</td></tr><tr><td>null</td><td>null</td><td>null</td><td>Bond_34207534</td><td>Base</td><td>Standard Risk Model</td><td>Risk Assessment</td><td>2026-07-22</td><td>1.0</td><td>null</td><td>0.012</td><td>0.011</td><td>0.012</td><td>0.001</td><td>null</td><td>null</td><td>0.45</td><td>null</td><td>0.0054</td><td>0.0054</td><td>1000000.0</td><td>null</td><td>null</td><td>null</td><td>0.15</td><td>null</td><td>0.55</td><td>null</td><td>0.013</td><td>0.01</td><td>0.05</td><td>0.95</td><td>Investment Grade</td><td>null</td><td>null</td><td>5400.0</td><td>27000.0</td><td>5400.0</td><td>1000000.0</td><td>32500.0</td><td>null</td><td>750000.0</td><td>0.85</td><td>0.12</td><td>0.03</td><td>0.05</td><td>0.002</td><td>0.15</td><td>0.08</td><td>0.1</td><td>0.02</td><td>null</td><td>null</td><td>null</td><td>null</td><td>null</td><td>null</td><td>null</td><td>null</td><td>null</td><td>null</td><td>null</td><td>null</td><td>null</td><td>null</td><td>BBB</td><td>null</td><td>null</td><td>null</td><td>null</td><td>null</td></tr><tr><td>null</td><td>null</td><td>null</td><td>Bond_058c434c</td><td>Base</td><td>Standard Risk Model</td><td>Risk Assessment</td><td>2025-07-22</td><td>1.0</td><td>null</td><td>0.012</td><td>0.011</td><td>0.012</td><td>0.001</td><td>null</td><td>null</td><td>0.45</td><td>null</td><td>0.0054</td><td>0.0054</td><td>1000000.0</td><td>null</td><td>null</td><td>null</td><td>0.15</td><td>null</td><td>0.55</td><td>null</td><td>0.013</td><td>0.01</td><td>0.05</td><td>0.95</td><td>Investment Grade</td><td>null</td><td>null</td><td>5400.0</td><td>27000.0</td><td>5400.0</td><td>1000000.0</td><td>32500.0</td><td>null</td><td>750000.0</td><td>0.85</td><td>0.12</td><td>0.03</td><td>0.05</td><td>0.002</td><td>0.15</td><td>0.08</td><td>0.1</td><td>0.02</td><td>null</td><td>null</td><td>null</td><td>null</td><td>null</td><td>null</td><td>null</td><td>null</td><td>null</td><td>null</td><td>null</td><td>null</td><td>null</td><td>null</td><td>BBB</td><td>null</td><td>null</td><td>null</td><td>null</td><td>null</td></tr><tr><td>null</td><td>null</td><td>null</td><td>Bond_058c434c</td><td>Base</td><td>Standard Risk Model</td><td>Risk Assessment</td><td>2026-07-22</td><td>1.0</td><td>null</td><td>0.012</td><td>0.011</td><td>0.012</td><td>0.001</td><td>null</td><td>null</td><td>0.45</td><td>null</td><td>0.0054</td><td>0.0054</td><td>1000000.0</td><td>null</td><td>null</td><td>null</td><td>0.15</td><td>null</td><td>0.55</td><td>null</td><td>0.013</td><td>0.01</td><td>0.05</td><td>0.95</td><td>Investment Grade</td><td>null</td><td>null</td><td>5400.0</td><td>27000.0</td><td>5400.0</td><td>1000000.0</td><td>32500.0</td><td>null</td><td>750000.0</td><td>0.85</td><td>0.12</td><td>0.03</td><td>0.05</td><td>0.002</td><td>0.15</td><td>0.08</td><td>0.1</td><td>0.02</td><td>null</td><td>null</td><td>null</td><td>null</td><td>null</td><td>null</td><td>null</td><td>null</td><td>null</td><td>null</td><td>null</td><td>null</td><td>null</td><td>null</td><td>BBB</td><td>null</td><td>null</td><td>null</td><td>null</td><td>null</td></tr><tr><td>null</td><td>null</td><td>null</td><td>Bond_aa318ef2</td><td>Base</td><td>Standard Risk Model</td><td>Risk Assessment</td><td>2025-07-22</td><td>1.0</td><td>null</td><td>0.012</td><td>0.011</td><td>0.012</td><td>0.001</td><td>null</td><td>null</td><td>0.45</td><td>null</td><td>0.0054</td><td>0.0054</td><td>1000000.0</td><td>null</td><td>null</td><td>null</td><td>0.15</td><td>null</td><td>0.55</td><td>null</td><td>0.013</td><td>0.01</td><td>0.05</td><td>0.95</td><td>Investment Grade</td><td>null</td><td>null</td><td>5400.0</td><td>27000.0</td><td>5400.0</td><td>1000000.0</td><td>32500.0</td><td>null</td><td>750000.0</td><td>0.85</td><td>0.12</td><td>0.03</td><td>0.05</td><td>0.002</td><td>0.15</td><td>0.08</td><td>0.1</td><td>0.02</td><td>null</td><td>null</td><td>null</td><td>null</td><td>null</td><td>null</td><td>null</td><td>null</td><td>null</td><td>null</td><td>null</td><td>null</td><td>null</td><td>null</td><td>BBB</td><td>null</td><td>null</td><td>null</td><td>null</td><td>null</td></tr><tr><td>null</td><td>null</td><td>null</td><td>Bond_aa318ef2</td><td>Base</td><td>Standard Risk Model</td><td>Risk Assessment</td><td>2026-07-22</td><td>1.0</td><td>null</td><td>0.012</td><td>0.011</td><td>0.012</td><td>0.001</td><td>null</td><td>null</td><td>0.45</td><td>null</td><td>0.0054</td><td>0.0054</td><td>1000000.0</td><td>null</td><td>null</td><td>null</td><td>0.15</td><td>null</td><td>0.55</td><td>null</td><td>0.013</td><td>0.01</td><td>0.05</td><td>0.95</td><td>Investment Grade</td><td>null</td><td>null</td><td>5400.0</td><td>27000.0</td><td>5400.0</td><td>1000000.0</td><td>32500.0</td><td>null</td><td>750000.0</td><td>0.85</td><td>0.12</td><td>0.03</td><td>0.05</td><td>0.002</td><td>0.15</td><td>0.08</td><td>0.1</td><td>0.02</td><td>null</td><td>null</td><td>null</td><td>null</td><td>null</td><td>null</td><td>null</td><td>null</td><td>null</td><td>null</td><td>null</td><td>null</td><td>null</td><td>null</td><td>BBB</td><td>null</td><td>null</td><td>null</td><td>null</td><td>null</td></tr></tbody></table></div>"
      ]
     },
     "metadata": {
      "application/vnd.databricks.v1+output": {
       "addedWidgets": {},
       "aggData": [],
       "aggError": "",
       "aggOverflow": false,
       "aggSchema": [],
       "aggSeriesLimitReached": false,
       "aggType": "",
       "arguments": {},
       "columnCustomDisplayInfos": {},
       "data": [
        [
         null,
         null,
         null,
         "Bond_3016acdb",
         "Base",
         "Standard Risk Model",
         "Risk Assessment",
         "2025-07-22",
         1.0,
         null,
         0.012,
         0.011,
         0.012,
         0.001,
         null,
         null,
         0.45,
         null,
         0.0054,
         0.0054,
         1000000.0,
         null,
         null,
         null,
         0.15,
         null,
         0.55,
         null,
         0.013,
         0.01,
         0.05,
         0.95,
         "Investment Grade",
         null,
         null,
         5400.0,
         27000.0,
         5400.0,
         1000000.0,
         32500.0,
         null,
         750000.0,
         0.85,
         0.12,
         0.03,
         0.05,
         0.002,
         0.15,
         0.08,
         0.1,
         0.02,
         null,
         null,
         null,
         null,
         null,
         null,
         null,
         null,
         null,
         null,
         null,
         null,
         null,
         null,
         "BBB",
         null,
         null,
         null,
         null,
         null
        ],
        [
         null,
         null,
         null,
         "Bond_3016acdb",
         "Base",
         "Standard Risk Model",
         "Risk Assessment",
         "2026-07-22",
         1.0,
         null,
         0.012,
         0.011,
         0.012,
         0.001,
         null,
         null,
         0.45,
         null,
         0.0054,
         0.0054,
         1000000.0,
         null,
         null,
         null,
         0.15,
         null,
         0.55,
         null,
         0.013,
         0.01,
         0.05,
         0.95,
         "Investment Grade",
         null,
         null,
         5400.0,
         27000.0,
         5400.0,
         1000000.0,
         32500.0,
         null,
         750000.0,
         0.85,
         0.12,
         0.03,
         0.05,
         0.002,
         0.15,
         0.08,
         0.1,
         0.02,
         null,
         null,
         null,
         null,
         null,
         null,
         null,
         null,
         null,
         null,
         null,
         null,
         null,
         null,
         "BBB",
         null,
         null,
         null,
         null,
         null
        ],
        [
         null,
         null,
         null,
         "Bond_78bdcefc",
         "Base",
         "Standard Risk Model",
         "Risk Assessment",
         "2025-07-22",
         1.0,
         null,
         0.012,
         0.011,
         0.012,
         0.001,
         null,
         null,
         0.45,
         null,
         0.0054,
         0.0054,
         1000000.0,
         null,
         null,
         null,
         0.15,
         null,
         0.55,
         null,
         0.013,
         0.01,
         0.05,
         0.95,
         "Investment Grade",
         null,
         null,
         5400.0,
         27000.0,
         5400.0,
         1000000.0,
         32500.0,
         null,
         750000.0,
         0.85,
         0.12,
         0.03,
         0.05,
         0.002,
         0.15,
         0.08,
         0.1,
         0.02,
         null,
         null,
         null,
         null,
         null,
         null,
         null,
         null,
         null,
         null,
         null,
         null,
         null,
         null,
         "BBB",
         null,
         null,
         null,
         null,
         null
        ],
        [
         null,
         null,
         null,
         "Bond_78bdcefc",
         "Base",
         "Standard Risk Model",
         "Risk Assessment",
         "2026-07-22",
         1.0,
         null,
         0.012,
         0.011,
         0.012,
         0.001,
         null,
         null,
         0.45,
         null,
         0.0054,
         0.0054,
         1000000.0,
         null,
         null,
         null,
         0.15,
         null,
         0.55,
         null,
         0.013,
         0.01,
         0.05,
         0.95,
         "Investment Grade",
         null,
         null,
         5400.0,
         27000.0,
         5400.0,
         1000000.0,
         32500.0,
         null,
         750000.0,
         0.85,
         0.12,
         0.03,
         0.05,
         0.002,
         0.15,
         0.08,
         0.1,
         0.02,
         null,
         null,
         null,
         null,
         null,
         null,
         null,
         null,
         null,
         null,
         null,
         null,
         null,
         null,
         "BBB",
         null,
         null,
         null,
         null,
         null
        ],
        [
         null,
         null,
         null,
         "Bond_33442b00",
         "Base",
         "Standard Risk Model",
         "Risk Assessment",
         "2025-07-22",
         1.0,
         null,
         0.012,
         0.011,
         0.012,
         0.001,
         null,
         null,
         0.45,
         null,
         0.0054,
         0.0054,
         1000000.0,
         null,
         null,
         null,
         0.15,
         null,
         0.55,
         null,
         0.013,
         0.01,
         0.05,
         0.95,
         "Investment Grade",
         null,
         null,
         5400.0,
         27000.0,
         5400.0,
         1000000.0,
         32500.0,
         null,
         750000.0,
         0.85,
         0.12,
         0.03,
         0.05,
         0.002,
         0.15,
         0.08,
         0.1,
         0.02,
         null,
         null,
         null,
         null,
         null,
         null,
         null,
         null,
         null,
         null,
         null,
         null,
         null,
         null,
         "BBB",
         null,
         null,
         null,
         null,
         null
        ],
        [
         null,
         null,
         null,
         "Bond_33442b00",
         "Base",
         "Standard Risk Model",
         "Risk Assessment",
         "2026-07-22",
         1.0,
         null,
         0.012,
         0.011,
         0.012,
         0.001,
         null,
         null,
         0.45,
         null,
         0.0054,
         0.0054,
         1000000.0,
         null,
         null,
         null,
         0.15,
         null,
         0.55,
         null,
         0.013,
         0.01,
         0.05,
         0.95,
         "Investment Grade",
         null,
         null,
         5400.0,
         27000.0,
         5400.0,
         1000000.0,
         32500.0,
         null,
         750000.0,
         0.85,
         0.12,
         0.03,
         0.05,
         0.002,
         0.15,
         0.08,
         0.1,
         0.02,
         null,
         null,
         null,
         null,
         null,
         null,
         null,
         null,
         null,
         null,
         null,
         null,
         null,
         null,
         "BBB",
         null,
         null,
         null,
         null,
         null
        ],
        [
         null,
         null,
         null,
         "Bond_3d6e2d55",
         "Base",
         "Standard Risk Model",
         "Risk Assessment",
         "2025-07-22",
         1.0,
         null,
         0.012,
         0.011,
         0.012,
         0.001,
         null,
         null,
         0.45,
         null,
         0.0054,
         0.0054,
         1000000.0,
         null,
         null,
         null,
         0.15,
         null,
         0.55,
         null,
         0.013,
         0.01,
         0.05,
         0.95,
         "Investment Grade",
         null,
         null,
         5400.0,
         27000.0,
         5400.0,
         1000000.0,
         32500.0,
         null,
         750000.0,
         0.85,
         0.12,
         0.03,
         0.05,
         0.002,
         0.15,
         0.08,
         0.1,
         0.02,
         null,
         null,
         null,
         null,
         null,
         null,
         null,
         null,
         null,
         null,
         null,
         null,
         null,
         null,
         "BBB",
         null,
         null,
         null,
         null,
         null
        ],
        [
         null,
         null,
         null,
         "Bond_3d6e2d55",
         "Base",
         "Standard Risk Model",
         "Risk Assessment",
         "2026-07-22",
         1.0,
         null,
         0.012,
         0.011,
         0.012,
         0.001,
         null,
         null,
         0.45,
         null,
         0.0054,
         0.0054,
         1000000.0,
         null,
         null,
         null,
         0.15,
         null,
         0.55,
         null,
         0.013,
         0.01,
         0.05,
         0.95,
         "Investment Grade",
         null,
         null,
         5400.0,
         27000.0,
         5400.0,
         1000000.0,
         32500.0,
         null,
         750000.0,
         0.85,
         0.12,
         0.03,
         0.05,
         0.002,
         0.15,
         0.08,
         0.1,
         0.02,
         null,
         null,
         null,
         null,
         null,
         null,
         null,
         null,
         null,
         null,
         null,
         null,
         null,
         null,
         "BBB",
         null,
         null,
         null,
         null,
         null
        ],
        [
         null,
         null,
         null,
         "Bond_c6b6367b",
         "Base",
         "Standard Risk Model",
         "Risk Assessment",
         "2025-07-22",
         1.0,
         null,
         0.012,
         0.011,
         0.012,
         0.001,
         null,
         null,
         0.45,
         null,
         0.0054,
         0.0054,
         1000000.0,
         null,
         null,
         null,
         0.15,
         null,
         0.55,
         null,
         0.013,
         0.01,
         0.05,
         0.95,
         "Investment Grade",
         null,
         null,
         5400.0,
         27000.0,
         5400.0,
         1000000.0,
         32500.0,
         null,
         750000.0,
         0.85,
         0.12,
         0.03,
         0.05,
         0.002,
         0.15,
         0.08,
         0.1,
         0.02,
         null,
         null,
         null,
         null,
         null,
         null,
         null,
         null,
         null,
         null,
         null,
         null,
         null,
         null,
         "BBB",
         null,
         null,
         null,
         null,
         null
        ],
        [
         null,
         null,
         null,
         "Bond_c6b6367b",
         "Base",
         "Standard Risk Model",
         "Risk Assessment",
         "2026-07-22",
         1.0,
         null,
         0.012,
         0.011,
         0.012,
         0.001,
         null,
         null,
         0.45,
         null,
         0.0054,
         0.0054,
         1000000.0,
         null,
         null,
         null,
         0.15,
         null,
         0.55,
         null,
         0.013,
         0.01,
         0.05,
         0.95,
         "Investment Grade",
         null,
         null,
         5400.0,
         27000.0,
         5400.0,
         1000000.0,
         32500.0,
         null,
         750000.0,
         0.85,
         0.12,
         0.03,
         0.05,
         0.002,
         0.15,
         0.08,
         0.1,
         0.02,
         null,
         null,
         null,
         null,
         null,
         null,
         null,
         null,
         null,
         null,
         null,
         null,
         null,
         null,
         "BBB",
         null,
         null,
         null,
         null,
         null
        ],
        [
         null,
         null,
         null,
         "Bond_e0c25114",
         "Base",
         "Standard Risk Model",
         "Risk Assessment",
         "2025-07-22",
         1.0,
         null,
         0.012,
         0.011,
         0.012,
         0.001,
         null,
         null,
         0.45,
         null,
         0.0054,
         0.0054,
         1000000.0,
         null,
         null,
         null,
         0.15,
         null,
         0.55,
         null,
         0.013,
         0.01,
         0.05,
         0.95,
         "Investment Grade",
         null,
         null,
         5400.0,
         27000.0,
         5400.0,
         1000000.0,
         32500.0,
         null,
         750000.0,
         0.85,
         0.12,
         0.03,
         0.05,
         0.002,
         0.15,
         0.08,
         0.1,
         0.02,
         null,
         null,
         null,
         null,
         null,
         null,
         null,
         null,
         null,
         null,
         null,
         null,
         null,
         null,
         "BBB",
         null,
         null,
         null,
         null,
         null
        ],
        [
         null,
         null,
         null,
         "Bond_e0c25114",
         "Base",
         "Standard Risk Model",
         "Risk Assessment",
         "2026-07-22",
         1.0,
         null,
         0.012,
         0.011,
         0.012,
         0.001,
         null,
         null,
         0.45,
         null,
         0.0054,
         0.0054,
         1000000.0,
         null,
         null,
         null,
         0.15,
         null,
         0.55,
         null,
         0.013,
         0.01,
         0.05,
         0.95,
         "Investment Grade",
         null,
         null,
         5400.0,
         27000.0,
         5400.0,
         1000000.0,
         32500.0,
         null,
         750000.0,
         0.85,
         0.12,
         0.03,
         0.05,
         0.002,
         0.15,
         0.08,
         0.1,
         0.02,
         null,
         null,
         null,
         null,
         null,
         null,
         null,
         null,
         null,
         null,
         null,
         null,
         null,
         null,
         "BBB",
         null,
         null,
         null,
         null,
         null
        ],
        [
         null,
         null,
         null,
         "Bond_34207534",
         "Base",
         "Standard Risk Model",
         "Risk Assessment",
         "2025-07-22",
         1.0,
         null,
         0.012,
         0.011,
         0.012,
         0.001,
         null,
         null,
         0.45,
         null,
         0.0054,
         0.0054,
         1000000.0,
         null,
         null,
         null,
         0.15,
         null,
         0.55,
         null,
         0.013,
         0.01,
         0.05,
         0.95,
         "Investment Grade",
         null,
         null,
         5400.0,
         27000.0,
         5400.0,
         1000000.0,
         32500.0,
         null,
         750000.0,
         0.85,
         0.12,
         0.03,
         0.05,
         0.002,
         0.15,
         0.08,
         0.1,
         0.02,
         null,
         null,
         null,
         null,
         null,
         null,
         null,
         null,
         null,
         null,
         null,
         null,
         null,
         null,
         "BBB",
         null,
         null,
         null,
         null,
         null
        ],
        [
         null,
         null,
         null,
         "Bond_34207534",
         "Base",
         "Standard Risk Model",
         "Risk Assessment",
         "2026-07-22",
         1.0,
         null,
         0.012,
         0.011,
         0.012,
         0.001,
         null,
         null,
         0.45,
         null,
         0.0054,
         0.0054,
         1000000.0,
         null,
         null,
         null,
         0.15,
         null,
         0.55,
         null,
         0.013,
         0.01,
         0.05,
         0.95,
         "Investment Grade",
         null,
         null,
         5400.0,
         27000.0,
         5400.0,
         1000000.0,
         32500.0,
         null,
         750000.0,
         0.85,
         0.12,
         0.03,
         0.05,
         0.002,
         0.15,
         0.08,
         0.1,
         0.02,
         null,
         null,
         null,
         null,
         null,
         null,
         null,
         null,
         null,
         null,
         null,
         null,
         null,
         null,
         "BBB",
         null,
         null,
         null,
         null,
         null
        ],
        [
         null,
         null,
         null,
         "Bond_058c434c",
         "Base",
         "Standard Risk Model",
         "Risk Assessment",
         "2025-07-22",
         1.0,
         null,
         0.012,
         0.011,
         0.012,
         0.001,
         null,
         null,
         0.45,
         null,
         0.0054,
         0.0054,
         1000000.0,
         null,
         null,
         null,
         0.15,
         null,
         0.55,
         null,
         0.013,
         0.01,
         0.05,
         0.95,
         "Investment Grade",
         null,
         null,
         5400.0,
         27000.0,
         5400.0,
         1000000.0,
         32500.0,
         null,
         750000.0,
         0.85,
         0.12,
         0.03,
         0.05,
         0.002,
         0.15,
         0.08,
         0.1,
         0.02,
         null,
         null,
         null,
         null,
         null,
         null,
         null,
         null,
         null,
         null,
         null,
         null,
         null,
         null,
         "BBB",
         null,
         null,
         null,
         null,
         null
        ],
        [
         null,
         null,
         null,
         "Bond_058c434c",
         "Base",
         "Standard Risk Model",
         "Risk Assessment",
         "2026-07-22",
         1.0,
         null,
         0.012,
         0.011,
         0.012,
         0.001,
         null,
         null,
         0.45,
         null,
         0.0054,
         0.0054,
         1000000.0,
         null,
         null,
         null,
         0.15,
         null,
         0.55,
         null,
         0.013,
         0.01,
         0.05,
         0.95,
         "Investment Grade",
         null,
         null,
         5400.0,
         27000.0,
         5400.0,
         1000000.0,
         32500.0,
         null,
         750000.0,
         0.85,
         0.12,
         0.03,
         0.05,
         0.002,
         0.15,
         0.08,
         0.1,
         0.02,
         null,
         null,
         null,
         null,
         null,
         null,
         null,
         null,
         null,
         null,
         null,
         null,
         null,
         null,
         "BBB",
         null,
         null,
         null,
         null,
         null
        ],
        [
         null,
         null,
         null,
         "Bond_aa318ef2",
         "Base",
         "Standard Risk Model",
         "Risk Assessment",
         "2025-07-22",
         1.0,
         null,
         0.012,
         0.011,
         0.012,
         0.001,
         null,
         null,
         0.45,
         null,
         0.0054,
         0.0054,
         1000000.0,
         null,
         null,
         null,
         0.15,
         null,
         0.55,
         null,
         0.013,
         0.01,
         0.05,
         0.95,
         "Investment Grade",
         null,
         null,
         5400.0,
         27000.0,
         5400.0,
         1000000.0,
         32500.0,
         null,
         750000.0,
         0.85,
         0.12,
         0.03,
         0.05,
         0.002,
         0.15,
         0.08,
         0.1,
         0.02,
         null,
         null,
         null,
         null,
         null,
         null,
         null,
         null,
         null,
         null,
         null,
         null,
         null,
         null,
         "BBB",
         null,
         null,
         null,
         null,
         null
        ],
        [
         null,
         null,
         null,
         "Bond_aa318ef2",
         "Base",
         "Standard Risk Model",
         "Risk Assessment",
         "2026-07-22",
         1.0,
         null,
         0.012,
         0.011,
         0.012,
         0.001,
         null,
         null,
         0.45,
         null,
         0.0054,
         0.0054,
         1000000.0,
         null,
         null,
         null,
         0.15,
         null,
         0.55,
         null,
         0.013,
         0.01,
         0.05,
         0.95,
         "Investment Grade",
         null,
         null,
         5400.0,
         27000.0,
         5400.0,
         1000000.0,
         32500.0,
         null,
         750000.0,
         0.85,
         0.12,
         0.03,
         0.05,
         0.002,
         0.15,
         0.08,
         0.1,
         0.02,
         null,
         null,
         null,
         null,
         null,
         null,
         null,
         null,
         null,
         null,
         null,
         null,
         null,
         null,
         "BBB",
         null,
         null,
         null,
         null,
         null
        ]
       ],
       "datasetInfos": [
        {
         "name": "_sqldf",
         "schema": {
          "fields": [
           {
            "metadata": {},
            "name": "analysisidentifier",
            "nullable": true,
            "type": "string"
           },
           {
            "metadata": {},
            "name": "reportingdate",
            "nullable": true,
            "type": "string"
           },
           {
            "metadata": {},
            "name": "inputscenarioidentifier",
            "nullable": true,
            "type": "string"
           },
           {
            "metadata": {},
            "name": "instrumentidentifier",
            "nullable": true,
            "type": "string"
           },
           {
            "metadata": {},
            "name": "scenarioidentifier",
            "nullable": true,
            "type": "string"
           },
           {
            "metadata": {},
            "name": "modelname",
            "nullable": true,
            "type": "string"
           },
           {
            "metadata": {},
            "name": "modeloutput",
            "nullable": true,
            "type": "string"
           },
           {
            "metadata": {},
            "name": "asofdate",
            "nullable": true,
            "type": "string"
           },
           {
            "metadata": {},
            "name": "term",
            "nullable": true,
            "type": "double"
           },
           {
            "metadata": {},
            "name": "timesegment",
            "nullable": true,
            "type": "string"
           },
           {
            "metadata": {},
            "name": "annualizedcumulativepd",
            "nullable": true,
            "type": "double"
           },
           {
            "metadata": {},
            "name": "forwardpd",
            "nullable": true,
            "type": "double"
           },
           {
            "metadata": {},
            "name": "cumulativepd",
            "nullable": true,
            "type": "double"
           },
           {
            "metadata": {},
            "name": "marginalpd",
            "nullable": true,
            "type": "double"
           },
           {
            "metadata": {},
            "name": "maturityriskpd",
            "nullable": true,
            "type": "double"
           },
           {
            "metadata": {},
            "name": "maturityriskel",
            "nullable": true,
            "type": "double"
           },
           {
            "metadata": {},
            "name": "lgd",
            "nullable": true,
            "type": "double"
           },
           {
            "metadata": {},
            "name": "maturityrisklgd",
            "nullable": true,
            "type": "double"
           },
           {
            "metadata": {},
            "name": "lossrateannualized",
            "nullable": true,
            "type": "double"
           },
           {
            "metadata": {},
            "name": "lossratecumulative",
            "nullable": true,
            "type": "double"
           },
           {
            "metadata": {},
            "name": "ead",
            "nullable": true,
            "type": "double"
           },
           {
            "metadata": {},
            "name": "ccf",
            "nullable": true,
            "type": "double"
           },
           {
            "metadata": {},
            "name": "ugd",
            "nullable": true,
            "type": "double"
           },
           {
            "metadata": {},
            "name": "prepaymentrate",
            "nullable": true,
            "type": "double"
           },
           {
            "metadata": {},
            "name": "forwardprepaymentrate",
            "nullable": true,
            "type": "double"
           },
           {
            "metadata": {},
            "name": "cumulativeprepaymentrate",
            "nullable": true,
            "type": "double"
           },
           {
            "metadata": {},
            "name": "recovery",
            "nullable": true,
            "type": "double"
           },
           {
            "metadata": {},
            "name": "netchargeoff",
            "nullable": true,
            "type": "double"
           },
           {
            "metadata": {},
            "name": "annualizedpdoneyearprojection",
            "nullable": true,
            "type": "double"
           },
           {
            "metadata": {},
            "name": "stage1conditionalannualizedcumulativepd",
            "nullable": true,
            "type": "double"
           },
           {
            "metadata": {},
            "name": "stage2conditionalannualizedcumulativepd",
            "nullable": true,
            "type": "double"
           },
           {
            "metadata": {},
            "name": "stage3conditionalannualizedcumulativepd",
            "nullable": true,
            "type": "double"
           },
           {
            "metadata": {},
            "name": "impliedstagerating",
            "nullable": true,
            "type": "string"
           },
           {
            "metadata": {},
            "name": "netchargeoffamount",
            "nullable": true,
            "type": "double"
           },
           {
            "metadata": {},
            "name": "collateralvalue",
            "nullable": true,
            "type": "double"
           },
           {
            "metadata": {},
            "name": "expectedcreditlossamount",
            "nullable": true,
            "type": "double"
           },
           {
            "metadata": {},
            "name": "expectedcreditlossamountlifetimeprojection",
            "nullable": true,
            "type": "double"
           },
           {
            "metadata": {},
            "name": "expectedcreditlossamountoneyearprojection",
            "nullable": true,
            "type": "double"
           },
           {
            "metadata": {},
            "name": "exposure",
            "nullable": true,
            "type": "double"
           },
           {
            "metadata": {},
            "name": "grossinterestincome",
            "nullable": true,
            "type": "double"
           },
           {
            "metadata": {},
            "name": "totalinterestexpense",
            "nullable": true,
            "type": "double"
           },
           {
            "metadata": {},
            "name": "riskweightedassets",
            "nullable": true,
            "type": "double"
           },
           {
            "metadata": {},
            "name": "stage1portion",
            "nullable": true,
            "type": "double"
           },
           {
            "metadata": {},
            "name": "stage2portion",
            "nullable": true,
            "type": "double"
           },
           {
            "metadata": {},
            "name": "stage3portion",
            "nullable": true,
            "type": "double"
           },
           {
            "metadata": {},
            "name": "transitionprobabilityfromstage1tostage2",
            "nullable": true,
            "type": "double"
           },
           {
            "metadata": {},
            "name": "transitionprobabilityfromstage1tostage3",
            "nullable": true,
            "type": "double"
           },
           {
            "metadata": {},
            "name": "transitionprobabilityfromstage2tostage1",
            "nullable": true,
            "type": "double"
           },
           {
            "metadata": {},
            "name": "transitionprobabilityfromstage2tostage3",
            "nullable": true,
            "type": "double"
           },
           {
            "metadata": {},
            "name": "transitionprobabilityfromstage3tostage2",
            "nullable": true,
            "type": "double"
           },
           {
            "metadata": {},
            "name": "balancegrowthrate",
            "nullable": true,
            "type": "double"
           },
           {
            "metadata": {},
            "name": "lgdvariance",
            "nullable": true,
            "type": "double"
           },
           {
            "metadata": {},
            "name": "transactionsequence",
            "nullable": true,
            "type": "long"
           },
           {
            "metadata": {},
            "name": "creditotherthantemporaryimpairment",
            "nullable": true,
            "type": "double"
           },
           {
            "metadata": {},
            "name": "noncreditotherthantemporaryimpairment",
            "nullable": true,
            "type": "double"
           },
           {
            "metadata": {},
            "name": "temporaryimpairment",
            "nullable": true,
            "type": "double"
           },
           {
            "metadata": {},
            "name": "othercomprehensiveincome",
            "nullable": true,
            "type": "double"
           },
           {
            "metadata": {},
            "name": "otherthantemporaryimpairmentprobability",
            "nullable": true,
            "type": "double"
           },
           {
            "metadata": {},
            "name": "jobidentifier",
            "nullable": true,
            "type": "string"
           },
           {
            "metadata": {},
            "name": "valuedate",
            "nullable": true,
            "type": "string"
           },
           {
            "metadata": {},
            "name": "decayrate",
            "nullable": true,
            "type": "double"
           },
           {
            "metadata": {},
            "name": "rateresponserate",
            "nullable": true,
            "type": "double"
           },
           {
            "metadata": {},
            "name": "usagerate",
            "nullable": true,
            "type": "double"
           },
           {
            "metadata": {},
            "name": "liquidityhaircut",
            "nullable": true,
            "type": "double"
           },
           {
            "metadata": {},
            "name": "singlemonthlymortalityrate",
            "nullable": true,
            "type": "double"
           },
           {
            "metadata": {},
            "name": "edfimpliedrating",
            "nullable": true,
            "type": "string"
           },
           {
            "metadata": {},
            "name": "optionarmminimumpaymentportion",
            "nullable": true,
            "type": "double"
           },
           {
            "metadata": {},
            "name": "optionarminterestonlyportion",
            "nullable": true,
            "type": "double"
           },
           {
            "metadata": {},
            "name": "optionarmprincipalandinterestportion",
            "nullable": true,
            "type": "double"
           },
           {
            "metadata": {},
            "name": "forbearanceportion",
            "nullable": true,
            "type": "double"
           },
           {
            "metadata": {},
            "name": "forwarddecayrate",
            "nullable": true,
            "type": "double"
           }
          ],
          "type": "struct"
         },
         "tableIdentifier": null,
         "typeStr": "pyspark.sql.dataframe.DataFrame"
        }
       ],
       "dbfsResultPath": null,
       "isJsonSchema": true,
       "metadata": {
        "createTempViewForImplicitDf": true,
        "dataframeName": "_sqldf",
        "executionCount": 21
       },
       "overflow": false,
       "plotOptions": {
        "customPlotOptions": {},
        "displayType": "table",
        "pivotAggregation": null,
        "pivotColumns": null,
        "xColumns": null,
        "yColumns": null
       },
       "removedWidgets": [],
       "schema": [
        {
         "metadata": "{}",
         "name": "analysisidentifier",
         "type": "\"string\""
        },
        {
         "metadata": "{}",
         "name": "reportingdate",
         "type": "\"string\""
        },
        {
         "metadata": "{}",
         "name": "inputscenarioidentifier",
         "type": "\"string\""
        },
        {
         "metadata": "{}",
         "name": "instrumentidentifier",
         "type": "\"string\""
        },
        {
         "metadata": "{}",
         "name": "scenarioidentifier",
         "type": "\"string\""
        },
        {
         "metadata": "{}",
         "name": "modelname",
         "type": "\"string\""
        },
        {
         "metadata": "{}",
         "name": "modeloutput",
         "type": "\"string\""
        },
        {
         "metadata": "{}",
         "name": "asofdate",
         "type": "\"string\""
        },
        {
         "metadata": "{}",
         "name": "term",
         "type": "\"double\""
        },
        {
         "metadata": "{}",
         "name": "timesegment",
         "type": "\"string\""
        },
        {
         "metadata": "{}",
         "name": "annualizedcumulativepd",
         "type": "\"double\""
        },
        {
         "metadata": "{}",
         "name": "forwardpd",
         "type": "\"double\""
        },
        {
         "metadata": "{}",
         "name": "cumulativepd",
         "type": "\"double\""
        },
        {
         "metadata": "{}",
         "name": "marginalpd",
         "type": "\"double\""
        },
        {
         "metadata": "{}",
         "name": "maturityriskpd",
         "type": "\"double\""
        },
        {
         "metadata": "{}",
         "name": "maturityriskel",
         "type": "\"double\""
        },
        {
         "metadata": "{}",
         "name": "lgd",
         "type": "\"double\""
        },
        {
         "metadata": "{}",
         "name": "maturityrisklgd",
         "type": "\"double\""
        },
        {
         "metadata": "{}",
         "name": "lossrateannualized",
         "type": "\"double\""
        },
        {
         "metadata": "{}",
         "name": "lossratecumulative",
         "type": "\"double\""
        },
        {
         "metadata": "{}",
         "name": "ead",
         "type": "\"double\""
        },
        {
         "metadata": "{}",
         "name": "ccf",
         "type": "\"double\""
        },
        {
         "metadata": "{}",
         "name": "ugd",
         "type": "\"double\""
        },
        {
         "metadata": "{}",
         "name": "prepaymentrate",
         "type": "\"double\""
        },
        {
         "metadata": "{}",
         "name": "forwardprepaymentrate",
         "type": "\"double\""
        },
        {
         "metadata": "{}",
         "name": "cumulativeprepaymentrate",
         "type": "\"double\""
        },
        {
         "metadata": "{}",
         "name": "recovery",
         "type": "\"double\""
        },
        {
         "metadata": "{}",
         "name": "netchargeoff",
         "type": "\"double\""
        },
        {
         "metadata": "{}",
         "name": "annualizedpdoneyearprojection",
         "type": "\"double\""
        },
        {
         "metadata": "{}",
         "name": "stage1conditionalannualizedcumulativepd",
         "type": "\"double\""
        },
        {
         "metadata": "{}",
         "name": "stage2conditionalannualizedcumulativepd",
         "type": "\"double\""
        },
        {
         "metadata": "{}",
         "name": "stage3conditionalannualizedcumulativepd",
         "type": "\"double\""
        },
        {
         "metadata": "{}",
         "name": "impliedstagerating",
         "type": "\"string\""
        },
        {
         "metadata": "{}",
         "name": "netchargeoffamount",
         "type": "\"double\""
        },
        {
         "metadata": "{}",
         "name": "collateralvalue",
         "type": "\"double\""
        },
        {
         "metadata": "{}",
         "name": "expectedcreditlossamount",
         "type": "\"double\""
        },
        {
         "metadata": "{}",
         "name": "expectedcreditlossamountlifetimeprojection",
         "type": "\"double\""
        },
        {
         "metadata": "{}",
         "name": "expectedcreditlossamountoneyearprojection",
         "type": "\"double\""
        },
        {
         "metadata": "{}",
         "name": "exposure",
         "type": "\"double\""
        },
        {
         "metadata": "{}",
         "name": "grossinterestincome",
         "type": "\"double\""
        },
        {
         "metadata": "{}",
         "name": "totalinterestexpense",
         "type": "\"double\""
        },
        {
         "metadata": "{}",
         "name": "riskweightedassets",
         "type": "\"double\""
        },
        {
         "metadata": "{}",
         "name": "stage1portion",
         "type": "\"double\""
        },
        {
         "metadata": "{}",
         "name": "stage2portion",
         "type": "\"double\""
        },
        {
         "metadata": "{}",
         "name": "stage3portion",
         "type": "\"double\""
        },
        {
         "metadata": "{}",
         "name": "transitionprobabilityfromstage1tostage2",
         "type": "\"double\""
        },
        {
         "metadata": "{}",
         "name": "transitionprobabilityfromstage1tostage3",
         "type": "\"double\""
        },
        {
         "metadata": "{}",
         "name": "transitionprobabilityfromstage2tostage1",
         "type": "\"double\""
        },
        {
         "metadata": "{}",
         "name": "transitionprobabilityfromstage2tostage3",
         "type": "\"double\""
        },
        {
         "metadata": "{}",
         "name": "transitionprobabilityfromstage3tostage2",
         "type": "\"double\""
        },
        {
         "metadata": "{}",
         "name": "balancegrowthrate",
         "type": "\"double\""
        },
        {
         "metadata": "{}",
         "name": "lgdvariance",
         "type": "\"double\""
        },
        {
         "metadata": "{}",
         "name": "transactionsequence",
         "type": "\"long\""
        },
        {
         "metadata": "{}",
         "name": "creditotherthantemporaryimpairment",
         "type": "\"double\""
        },
        {
         "metadata": "{}",
         "name": "noncreditotherthantemporaryimpairment",
         "type": "\"double\""
        },
        {
         "metadata": "{}",
         "name": "temporaryimpairment",
         "type": "\"double\""
        },
        {
         "metadata": "{}",
         "name": "othercomprehensiveincome",
         "type": "\"double\""
        },
        {
         "metadata": "{}",
         "name": "otherthantemporaryimpairmentprobability",
         "type": "\"double\""
        },
        {
         "metadata": "{}",
         "name": "jobidentifier",
         "type": "\"string\""
        },
        {
         "metadata": "{}",
         "name": "valuedate",
         "type": "\"string\""
        },
        {
         "metadata": "{}",
         "name": "decayrate",
         "type": "\"double\""
        },
        {
         "metadata": "{}",
         "name": "rateresponserate",
         "type": "\"double\""
        },
        {
         "metadata": "{}",
         "name": "usagerate",
         "type": "\"double\""
        },
        {
         "metadata": "{}",
         "name": "liquidityhaircut",
         "type": "\"double\""
        },
        {
         "metadata": "{}",
         "name": "singlemonthlymortalityrate",
         "type": "\"double\""
        },
        {
         "metadata": "{}",
         "name": "edfimpliedrating",
         "type": "\"string\""
        },
        {
         "metadata": "{}",
         "name": "optionarmminimumpaymentportion",
         "type": "\"double\""
        },
        {
         "metadata": "{}",
         "name": "optionarminterestonlyportion",
         "type": "\"double\""
        },
        {
         "metadata": "{}",
         "name": "optionarmprincipalandinterestportion",
         "type": "\"double\""
        },
        {
         "metadata": "{}",
         "name": "forbearanceportion",
         "type": "\"double\""
        },
        {
         "metadata": "{}",
         "name": "forwarddecayrate",
         "type": "\"double\""
        }
       ],
       "type": "table"
      }
     },
     "output_type": "display_data"
    }
   ],
   "source": [
    "%sql\n",
    "select * from users.anhhoang_chu.pulsar_instrument_risk_metric;"
   ]
  }
 ],
 "metadata": {
  "application/vnd.databricks.v1+notebook": {
   "computePreferences": null,
   "dashboards": [],
   "environmentMetadata": {
    "base_environment": "dbe_41a50460-c90b-4840-9288-afcb847395d5",
    "environment_version": "2"
   },
   "inputWidgetPreferences": null,
   "language": "python",
   "notebookMetadata": {
    "mostRecentlyExecutedCommandWithImplicitDF": {
     "commandId": 8908198917799054,
     "dataframes": [
      "_sqldf"
     ]
    },
    "pythonIndentUnit": 2
   },
   "notebookName": "iceberg-foreachbatch",
   "widgets": {}
  },
  "language_info": {
   "name": "python"
  }
 },
 "nbformat": 4,
 "nbformat_minor": 0
}